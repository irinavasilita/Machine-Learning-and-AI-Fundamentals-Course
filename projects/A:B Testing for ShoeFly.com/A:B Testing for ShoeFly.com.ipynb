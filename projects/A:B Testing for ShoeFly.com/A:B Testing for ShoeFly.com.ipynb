{
 "cells": [
  {
   "cell_type": "markdown",
   "id": "a764d1a1",
   "metadata": {},
   "source": [
    "# A/B Testing for ShoeFly.com\n",
    "\n",
    "Our favorite online shoe store, ShoeFly.com is performing an A/B Test. They have two different versions of an ad, which they have placed in emails, as well as in banner ads on Facebook, Twitter, and Google. They want to know how the two ads are performing on each of the different platforms on each day of the week. Help them analyze the data using aggregate measures.\n",
    "\n",
    "Examine the first few rows of ad_clicks."
   ]
  },
  {
   "cell_type": "code",
   "execution_count": 44,
   "id": "01cd1a34",
   "metadata": {},
   "outputs": [
    {
     "name": "stdout",
     "output_type": "stream",
     "text": [
      "                                user_id utm_source            day  \\\n",
      "0  008b7c6c-7272-471e-b90e-930d548bd8d7     google   6 - Saturday   \n",
      "1  009abb94-5e14-4b6c-bb1c-4f4df7aa7557   facebook     7 - Sunday   \n",
      "2  00f5d532-ed58-4570-b6d2-768df5f41aed    twitter    2 - Tuesday   \n",
      "3  011adc64-0f44-4fd9-a0bb-f1506d2ad439     google    2 - Tuesday   \n",
      "4  012137e6-7ae7-4649-af68-205b4702169c   facebook     7 - Sunday   \n",
      "5  013b0072-7b72-40e7-b698-98b4d0c9967f   facebook     1 - Monday   \n",
      "6  0153d85b-7660-4c39-92eb-1e1acd023280     google   4 - Thursday   \n",
      "7  01555297-d6e6-49ae-aeba-1b196fdbb09f     google  3 - Wednesday   \n",
      "8  018cea61-19ea-4119-895b-1a4309ccb148      email     1 - Monday   \n",
      "9  01a210c3-fde0-4e6f-8efd-4f0e38730ae6      email    2 - Tuesday   \n",
      "\n",
      "  ad_click_timestamp experimental_group  \n",
      "0               7:18                  A  \n",
      "1                NaN                  B  \n",
      "2                NaN                  A  \n",
      "3                NaN                  B  \n",
      "4                NaN                  B  \n",
      "5                NaN                  A  \n",
      "6                NaN                  A  \n",
      "7                NaN                  A  \n",
      "8              18:33                  A  \n",
      "9              15:21                  B  \n"
     ]
    }
   ],
   "source": [
    "import pandas as pd\n",
    "\n",
    "ad_clicks = pd.read_csv('ad_clicks.csv')\n",
    "\n",
    "print(ad_clicks.head(10))"
   ]
  },
  {
   "cell_type": "markdown",
   "id": "311bbc71",
   "metadata": {},
   "source": [
    "Your manager wants to know which ad platform is getting you the most views.\n",
    "\n",
    "How many views (i.e., rows of the table) came from each utm_source?"
   ]
  },
  {
   "cell_type": "code",
   "execution_count": 45,
   "id": "00dd8ef8",
   "metadata": {},
   "outputs": [
    {
     "name": "stdout",
     "output_type": "stream",
     "text": [
      "  utm_source  user_id\n",
      "0      email      255\n",
      "1   facebook      504\n",
      "2     google      680\n",
      "3    twitter      215\n"
     ]
    }
   ],
   "source": [
    "views_counts = ad_clicks.groupby('utm_source').user_id.count().reset_index()\n",
    "print(views_counts)"
   ]
  },
  {
   "cell_type": "markdown",
   "id": "9414e419",
   "metadata": {},
   "source": [
    "If the column ad_click_timestamp is not null, then someone actually clicked on the ad that was displayed.\n",
    "\n",
    "Create a new column called is_click, which is True if ad_click_timestamp is not null and False otherwise."
   ]
  },
  {
   "cell_type": "code",
   "execution_count": 46,
   "id": "c77d2699",
   "metadata": {},
   "outputs": [
    {
     "name": "stdout",
     "output_type": "stream",
     "text": [
      "                                user_id utm_source            day  \\\n",
      "0  008b7c6c-7272-471e-b90e-930d548bd8d7     google   6 - Saturday   \n",
      "1  009abb94-5e14-4b6c-bb1c-4f4df7aa7557   facebook     7 - Sunday   \n",
      "2  00f5d532-ed58-4570-b6d2-768df5f41aed    twitter    2 - Tuesday   \n",
      "3  011adc64-0f44-4fd9-a0bb-f1506d2ad439     google    2 - Tuesday   \n",
      "4  012137e6-7ae7-4649-af68-205b4702169c   facebook     7 - Sunday   \n",
      "5  013b0072-7b72-40e7-b698-98b4d0c9967f   facebook     1 - Monday   \n",
      "6  0153d85b-7660-4c39-92eb-1e1acd023280     google   4 - Thursday   \n",
      "7  01555297-d6e6-49ae-aeba-1b196fdbb09f     google  3 - Wednesday   \n",
      "8  018cea61-19ea-4119-895b-1a4309ccb148      email     1 - Monday   \n",
      "9  01a210c3-fde0-4e6f-8efd-4f0e38730ae6      email    2 - Tuesday   \n",
      "\n",
      "  ad_click_timestamp experimental_group  is_click  \n",
      "0               7:18                  A      True  \n",
      "1                NaN                  B     False  \n",
      "2                NaN                  A     False  \n",
      "3                NaN                  B     False  \n",
      "4                NaN                  B     False  \n",
      "5                NaN                  A     False  \n",
      "6                NaN                  A     False  \n",
      "7                NaN                  A     False  \n",
      "8              18:33                  A      True  \n",
      "9              15:21                  B      True  \n"
     ]
    }
   ],
   "source": [
    "is_click = lambda x: False if pd.isna(x) else True\n",
    "ad_clicks['is_click'] = ad_clicks.ad_click_timestamp.apply(is_click)\n",
    "print(ad_clicks.head(10))"
   ]
  },
  {
   "cell_type": "markdown",
   "id": "610e060a",
   "metadata": {},
   "source": [
    "We want to know the percent of people who clicked on ads from each utm_source.\n",
    "\n",
    "Start by grouping by utm_source and is_click and counting the number of user_id‘s in each of those groups. Save your answer to the variable clicks_by_source."
   ]
  },
  {
   "cell_type": "code",
   "execution_count": 47,
   "id": "43b5729c",
   "metadata": {},
   "outputs": [
    {
     "name": "stdout",
     "output_type": "stream",
     "text": [
      "  utm_source  is_click  user_id\n",
      "0      email     False      175\n",
      "1      email      True       80\n",
      "2   facebook     False      324\n",
      "3   facebook      True      180\n",
      "4     google     False      441\n",
      "5     google      True      239\n",
      "6    twitter     False      149\n",
      "7    twitter      True       66\n"
     ]
    }
   ],
   "source": [
    "clicks_by_source = ad_clicks.groupby(['utm_source', 'is_click']).user_id.count().reset_index()\n",
    "print(clicks_by_source)"
   ]
  },
  {
   "cell_type": "markdown",
   "id": "35ca5598",
   "metadata": {},
   "source": [
    "Now let’s pivot the data so that the columns are is_click (either True or False), the index is utm_source, and the values are user_id.\n",
    "\n",
    "Save your results to the variable clicks_pivot."
   ]
  },
  {
   "cell_type": "code",
   "execution_count": 48,
   "id": "1ea1d4ff",
   "metadata": {},
   "outputs": [
    {
     "name": "stdout",
     "output_type": "stream",
     "text": [
      "is_click utm_source  False  True\n",
      "0             email    175    80\n",
      "1          facebook    324   180\n",
      "2            google    441   239\n",
      "3           twitter    149    66\n"
     ]
    }
   ],
   "source": [
    "clicks_pivot = clicks_by_source.pivot(\n",
    "    columns = 'is_click',\n",
    "    index = 'utm_source',\n",
    "    values = 'user_id'\n",
    ").reset_index()\n",
    "\n",
    "print(clicks_pivot)"
   ]
  },
  {
   "cell_type": "markdown",
   "id": "e6491b81",
   "metadata": {},
   "source": [
    "Create a new column in clicks_pivot called percent_clicked which is equal to the percent of users who clicked on the ad from each utm_source.\n",
    "\n",
    "Was there a difference in click rates for each source?"
   ]
  },
  {
   "cell_type": "code",
   "execution_count": 49,
   "id": "5621da26",
   "metadata": {},
   "outputs": [
    {
     "name": "stdout",
     "output_type": "stream",
     "text": [
      "is_click utm_source  False  True  percent_clicked\n",
      "0             email    175    80         0.313725\n",
      "1          facebook    324   180         0.357143\n",
      "2            google    441   239         0.351471\n",
      "3           twitter    149    66         0.306977\n"
     ]
    }
   ],
   "source": [
    "clicks_pivot['percent_clicked'] = clicks_pivot[True] / (clicks_pivot[True] + clicks_pivot[False])\n",
    "print(clicks_pivot)"
   ]
  },
  {
   "cell_type": "markdown",
   "id": "adde4397",
   "metadata": {},
   "source": [
    "The column experimental_group tells us whether the user was shown Ad A or Ad B.\n",
    "\n",
    "Were approximately the same number of people shown both ads?"
   ]
  },
  {
   "cell_type": "code",
   "execution_count": 50,
   "id": "f0c24d65",
   "metadata": {},
   "outputs": [
    {
     "name": "stdout",
     "output_type": "stream",
     "text": [
      "  experimental_group  user_id\n",
      "0                  A      827\n",
      "1                  B      827\n"
     ]
    }
   ],
   "source": [
    "group_counts = ad_clicks.groupby('experimental_group').user_id.count().reset_index()\n",
    "print(group_counts)"
   ]
  },
  {
   "cell_type": "markdown",
   "id": "00e031aa",
   "metadata": {},
   "source": [
    "Using the column is_click that we defined earlier, check to see if a greater percentage of users clicked on Ad A or Ad B."
   ]
  },
  {
   "cell_type": "code",
   "execution_count": 51,
   "id": "586c5bd1",
   "metadata": {},
   "outputs": [
    {
     "name": "stdout",
     "output_type": "stream",
     "text": [
      "  experimental_group  is_click  user_id\n",
      "0                  A     False      517\n",
      "1                  A      True      310\n",
      "2                  B     False      572\n",
      "3                  B      True      255\n"
     ]
    }
   ],
   "source": [
    "clicked_percentage = ad_clicks.groupby(['experimental_group', 'is_click']).user_id.count().reset_index()\n",
    "print(clicked_percentage)"
   ]
  },
  {
   "cell_type": "markdown",
   "id": "307ccc5a",
   "metadata": {},
   "source": [
    "The Product Manager for the A/B test thinks that the clicks might have changed by day of the week.\n",
    "\n",
    "Start by creating two DataFrames: a_clicks and b_clicks, which contain only the results for A group and B group, respectively."
   ]
  },
  {
   "cell_type": "code",
   "execution_count": 52,
   "id": "997730d8",
   "metadata": {},
   "outputs": [],
   "source": [
    "a_clicks = ad_clicks[ad_clicks.experimental_group == 'A']\n",
    "b_clicks = ad_clicks[ad_clicks.experimental_group == 'B']"
   ]
  },
  {
   "cell_type": "markdown",
   "id": "84cfc606",
   "metadata": {},
   "source": [
    "For each group (a_clicks and b_clicks), calculate the percent of users who clicked on the ad by day."
   ]
  },
  {
   "cell_type": "code",
   "execution_count": 53,
   "id": "c5a229df",
   "metadata": {},
   "outputs": [
    {
     "name": "stdout",
     "output_type": "stream",
     "text": [
      "              day  is_click  user_id\n",
      "0      1 - Monday     False       70\n",
      "1      1 - Monday      True       43\n",
      "2     2 - Tuesday     False       76\n",
      "3     2 - Tuesday      True       43\n",
      "4   3 - Wednesday     False       86\n",
      "5   3 - Wednesday      True       38\n",
      "6    4 - Thursday     False       69\n",
      "7    4 - Thursday      True       47\n",
      "8      5 - Friday     False       77\n",
      "9      5 - Friday      True       51\n",
      "10   6 - Saturday     False       73\n",
      "11   6 - Saturday      True       45\n",
      "12     7 - Sunday     False       66\n",
      "13     7 - Sunday      True       43\n"
     ]
    }
   ],
   "source": [
    "group_a_by_day = a_clicks.groupby(['day', 'is_click']).user_id.count().reset_index()\n",
    "print(group_a_by_day)"
   ]
  },
  {
   "cell_type": "code",
   "execution_count": 54,
   "id": "a023a68f",
   "metadata": {},
   "outputs": [
    {
     "name": "stdout",
     "output_type": "stream",
     "text": [
      "is_click            day  False  True\n",
      "0            1 - Monday     70    43\n",
      "1           2 - Tuesday     76    43\n",
      "2         3 - Wednesday     86    38\n",
      "3          4 - Thursday     69    47\n",
      "4            5 - Friday     77    51\n",
      "5          6 - Saturday     73    45\n",
      "6            7 - Sunday     66    43\n"
     ]
    }
   ],
   "source": [
    "group_a_by_day_pivot = group_a_by_day.pivot(\n",
    "    columns = 'is_click',\n",
    "    index = 'day',\n",
    "    values = 'user_id'\n",
    ").reset_index()\n",
    "\n",
    "print(group_a_by_day_pivot)"
   ]
  },
  {
   "cell_type": "code",
   "execution_count": 55,
   "id": "0720becf",
   "metadata": {},
   "outputs": [
    {
     "name": "stdout",
     "output_type": "stream",
     "text": [
      "is_click            day  False  True   percent\n",
      "0            1 - Monday     70    43  0.380531\n",
      "1           2 - Tuesday     76    43  0.361345\n",
      "2         3 - Wednesday     86    38  0.306452\n",
      "3          4 - Thursday     69    47  0.405172\n",
      "4            5 - Friday     77    51  0.398438\n",
      "5          6 - Saturday     73    45  0.381356\n",
      "6            7 - Sunday     66    43  0.394495\n"
     ]
    }
   ],
   "source": [
    "group_a_by_day_pivot['percent'] = group_a_by_day_pivot[True] / (group_a_by_day_pivot[True] + group_a_by_day_pivot[False])\n",
    "print(group_a_by_day_pivot)"
   ]
  },
  {
   "cell_type": "code",
   "execution_count": 56,
   "id": "45f4d807",
   "metadata": {},
   "outputs": [
    {
     "name": "stdout",
     "output_type": "stream",
     "text": [
      "              day  is_click  user_id\n",
      "0      1 - Monday     False       81\n",
      "1      1 - Monday      True       32\n",
      "2     2 - Tuesday     False       74\n",
      "3     2 - Tuesday      True       45\n",
      "4   3 - Wednesday     False       89\n",
      "5   3 - Wednesday      True       35\n",
      "6    4 - Thursday     False       87\n",
      "7    4 - Thursday      True       29\n",
      "8      5 - Friday     False       90\n",
      "9      5 - Friday      True       38\n",
      "10   6 - Saturday     False       76\n",
      "11   6 - Saturday      True       42\n",
      "12     7 - Sunday     False       75\n",
      "13     7 - Sunday      True       34\n"
     ]
    }
   ],
   "source": [
    "group_b_by_day = b_clicks.groupby(['day', 'is_click']).user_id.count().reset_index()\n",
    "print(group_b_by_day)"
   ]
  },
  {
   "cell_type": "code",
   "execution_count": 57,
   "id": "712c893f",
   "metadata": {},
   "outputs": [
    {
     "name": "stdout",
     "output_type": "stream",
     "text": [
      "is_click            day  False  True\n",
      "0            1 - Monday     81    32\n",
      "1           2 - Tuesday     74    45\n",
      "2         3 - Wednesday     89    35\n",
      "3          4 - Thursday     87    29\n",
      "4            5 - Friday     90    38\n",
      "5          6 - Saturday     76    42\n",
      "6            7 - Sunday     75    34\n"
     ]
    }
   ],
   "source": [
    "group_b_by_day_pivot = group_b_by_day.pivot(\n",
    "    columns = 'is_click',\n",
    "    index = 'day',\n",
    "    values = 'user_id'\n",
    ").reset_index()\n",
    "\n",
    "print(group_b_by_day_pivot)"
   ]
  },
  {
   "cell_type": "code",
   "execution_count": 58,
   "id": "cac43131",
   "metadata": {},
   "outputs": [
    {
     "name": "stdout",
     "output_type": "stream",
     "text": [
      "is_click            day  False  True   percent\n",
      "0            1 - Monday     81    32  0.283186\n",
      "1           2 - Tuesday     74    45  0.378151\n",
      "2         3 - Wednesday     89    35  0.282258\n",
      "3          4 - Thursday     87    29  0.250000\n",
      "4            5 - Friday     90    38  0.296875\n",
      "5          6 - Saturday     76    42  0.355932\n",
      "6            7 - Sunday     75    34  0.311927\n"
     ]
    }
   ],
   "source": [
    "group_b_by_day_pivot['percent'] = group_b_by_day_pivot[True] / (group_b_by_day_pivot[True] + group_b_by_day_pivot[False])\n",
    "print(group_b_by_day_pivot)"
   ]
  },
  {
   "cell_type": "markdown",
   "id": "48ee3e15",
   "metadata": {},
   "source": [
    "Compare the results for A and B. What happened over the course of the week?\n",
    "\n",
    "Do you recommend that your company use Ad A or Ad B?"
   ]
  },
  {
   "cell_type": "code",
   "execution_count": null,
   "id": "08fb67fc",
   "metadata": {},
   "outputs": [],
   "source": []
  }
 ],
 "metadata": {
  "kernelspec": {
   "display_name": "Python 3 (ipykernel)",
   "language": "python",
   "name": "python3"
  },
  "language_info": {
   "codemirror_mode": {
    "name": "ipython",
    "version": 3
   },
   "file_extension": ".py",
   "mimetype": "text/x-python",
   "name": "python",
   "nbconvert_exporter": "python",
   "pygments_lexer": "ipython3",
   "version": "3.11.4"
  }
 },
 "nbformat": 4,
 "nbformat_minor": 5
}
