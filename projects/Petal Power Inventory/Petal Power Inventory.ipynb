{
 "cells": [
  {
   "cell_type": "markdown",
   "id": "0f0cb9e5",
   "metadata": {},
   "source": [
    "You’re the lead data analyst for a chain of gardening stores called Petal Power. Help them analyze their inventory!\n",
    "\n",
    "\n",
    "Data for all of the locations of Petal Power is in the file inventory.csv. Load the data into a DataFrame called inventory.\n",
    "\n",
    "\n",
    "Inspect the first 10 rows of inventory."
   ]
  },
  {
   "cell_type": "code",
   "execution_count": 2,
   "id": "5f46336c",
   "metadata": {},
   "outputs": [
    {
     "name": "stdout",
     "output_type": "stream",
     "text": [
      "        location  product_type         product_description  quantity  price\n",
      "0  Staten Island         seeds                       daisy         4   6.99\n",
      "1  Staten Island         seeds                  calla lily        46  19.99\n",
      "2  Staten Island         seeds                      tomato        85  13.99\n",
      "3  Staten Island  garden tools                        rake         4  13.99\n",
      "4  Staten Island  garden tools                 wheelbarrow         0  89.99\n",
      "5  Staten Island  garden tools                       spade        93  19.99\n",
      "6  Staten Island  pest_control               insect killer        74  12.99\n",
      "7  Staten Island  pest_control                 weed killer         8  23.99\n",
      "8  Staten Island       planter  20 inch terracotta planter         0  17.99\n",
      "9  Staten Island       planter      8 inch plastic planter        53   3.99\n"
     ]
    }
   ],
   "source": [
    "import pandas as pd\n",
    "\n",
    "inventory = pd.read_csv('inventory.csv')\n",
    "print(inventory.head(10))"
   ]
  },
  {
   "cell_type": "markdown",
   "id": "cd183f7c",
   "metadata": {},
   "source": [
    "The first 10 rows represent data from your Staten Island location. Select these rows and save them to staten_island."
   ]
  },
  {
   "cell_type": "code",
   "execution_count": 3,
   "id": "02c1532a",
   "metadata": {},
   "outputs": [
    {
     "name": "stdout",
     "output_type": "stream",
     "text": [
      "        location  product_type         product_description  quantity  price\n",
      "0  Staten Island         seeds                       daisy         4   6.99\n",
      "1  Staten Island         seeds                  calla lily        46  19.99\n",
      "2  Staten Island         seeds                      tomato        85  13.99\n",
      "3  Staten Island  garden tools                        rake         4  13.99\n",
      "4  Staten Island  garden tools                 wheelbarrow         0  89.99\n",
      "5  Staten Island  garden tools                       spade        93  19.99\n",
      "6  Staten Island  pest_control               insect killer        74  12.99\n",
      "7  Staten Island  pest_control                 weed killer         8  23.99\n",
      "8  Staten Island       planter  20 inch terracotta planter         0  17.99\n",
      "9  Staten Island       planter      8 inch plastic planter        53   3.99\n"
     ]
    }
   ],
   "source": [
    "staten_island = inventory[0:10]\n",
    "print(staten_island)"
   ]
  },
  {
   "cell_type": "markdown",
   "id": "242a12bc",
   "metadata": {},
   "source": [
    "A customer just emailed you asking what products are sold at your Staten Island location. Select the column product_description from staten_island and save it to the variable product_request."
   ]
  },
  {
   "cell_type": "code",
   "execution_count": 5,
   "id": "668ace49",
   "metadata": {},
   "outputs": [
    {
     "name": "stdout",
     "output_type": "stream",
     "text": [
      "['daisy', 'calla lily', 'tomato', 'rake', 'wheelbarrow', 'spade', 'insect killer', 'weed killer', '20 inch terracotta planter', '8 inch plastic planter']\n"
     ]
    }
   ],
   "source": [
    "product_request = staten_island['product_description']\n",
    "print(list(product_request))"
   ]
  },
  {
   "cell_type": "markdown",
   "id": "3d3a8dbc",
   "metadata": {},
   "source": [
    "Another customer emails to ask what types of seeds are sold at the Brooklyn location.\n",
    "\n",
    "Select all rows where location is equal to Brooklyn and product_type is equal to seeds and save them to the variable seed_request."
   ]
  },
  {
   "cell_type": "code",
   "execution_count": 6,
   "id": "0432c946",
   "metadata": {},
   "outputs": [
    {
     "name": "stdout",
     "output_type": "stream",
     "text": [
      "    location product_type product_description  quantity  price\n",
      "10  Brooklyn        seeds               daisy        50   6.99\n",
      "11  Brooklyn        seeds          calla lily         0  19.99\n",
      "12  Brooklyn        seeds              tomato         0  13.99\n"
     ]
    }
   ],
   "source": [
    "seed_request = inventory[(inventory.location == 'Brooklyn') & (inventory.product_type == 'seeds')]\n",
    "print(seed_request)"
   ]
  },
  {
   "cell_type": "markdown",
   "id": "1c03459a",
   "metadata": {},
   "source": [
    "Add a column to inventory called in_stock which is True if quantity is greater than 0 and False if quantity equals 0."
   ]
  },
  {
   "cell_type": "code",
   "execution_count": 8,
   "id": "ad19e511",
   "metadata": {},
   "outputs": [
    {
     "name": "stdout",
     "output_type": "stream",
     "text": [
      "        location  product_type         product_description  quantity  price  \\\n",
      "0  Staten Island         seeds                       daisy         4   6.99   \n",
      "1  Staten Island         seeds                  calla lily        46  19.99   \n",
      "2  Staten Island         seeds                      tomato        85  13.99   \n",
      "3  Staten Island  garden tools                        rake         4  13.99   \n",
      "4  Staten Island  garden tools                 wheelbarrow         0  89.99   \n",
      "5  Staten Island  garden tools                       spade        93  19.99   \n",
      "6  Staten Island  pest_control               insect killer        74  12.99   \n",
      "7  Staten Island  pest_control                 weed killer         8  23.99   \n",
      "8  Staten Island       planter  20 inch terracotta planter         0  17.99   \n",
      "9  Staten Island       planter      8 inch plastic planter        53   3.99   \n",
      "\n",
      "   in_stock  \n",
      "0      True  \n",
      "1      True  \n",
      "2      True  \n",
      "3      True  \n",
      "4     False  \n",
      "5      True  \n",
      "6      True  \n",
      "7      True  \n",
      "8     False  \n",
      "9      True  \n"
     ]
    }
   ],
   "source": [
    "inventory['in_stock'] = inventory.quantity.apply(lambda x: True \\\n",
    "if x > 0 \\\n",
    "else False)\n",
    "print(inventory.head(10))"
   ]
  },
  {
   "cell_type": "markdown",
   "id": "335762c9",
   "metadata": {},
   "source": [
    "Petal Power wants to know how valuable their current inventory is.\n",
    "\n",
    "Create a column called total_value that is equal to price multiplied by quantity."
   ]
  },
  {
   "cell_type": "code",
   "execution_count": 9,
   "id": "3a99aac8",
   "metadata": {},
   "outputs": [
    {
     "name": "stdout",
     "output_type": "stream",
     "text": [
      "        location  product_type         product_description  quantity  price  \\\n",
      "0  Staten Island         seeds                       daisy         4   6.99   \n",
      "1  Staten Island         seeds                  calla lily        46  19.99   \n",
      "2  Staten Island         seeds                      tomato        85  13.99   \n",
      "3  Staten Island  garden tools                        rake         4  13.99   \n",
      "4  Staten Island  garden tools                 wheelbarrow         0  89.99   \n",
      "5  Staten Island  garden tools                       spade        93  19.99   \n",
      "6  Staten Island  pest_control               insect killer        74  12.99   \n",
      "7  Staten Island  pest_control                 weed killer         8  23.99   \n",
      "8  Staten Island       planter  20 inch terracotta planter         0  17.99   \n",
      "9  Staten Island       planter      8 inch plastic planter        53   3.99   \n",
      "\n",
      "   in_stock  total_value  \n",
      "0      True        27.96  \n",
      "1      True       919.54  \n",
      "2      True      1189.15  \n",
      "3      True        55.96  \n",
      "4     False         0.00  \n",
      "5      True      1859.07  \n",
      "6      True       961.26  \n",
      "7      True       191.92  \n",
      "8     False         0.00  \n",
      "9      True       211.47  \n"
     ]
    }
   ],
   "source": [
    "inventory['total_value'] = inventory.apply(lambda row: row.price * row.quantity, axis=1)\n",
    "print(inventory.head(10))"
   ]
  },
  {
   "cell_type": "markdown",
   "id": "d7e7b893",
   "metadata": {},
   "source": [
    "The Marketing department wants a complete description of each product for their catalog.\n",
    "\n",
    "The following lambda function combines product_type and product_description into a single string:\n",
    "\n",
    "<code>combine_lambda = lambda row: \\\n",
    "    '{} - {}'.format(row.product_type,\n",
    "                     row.product_description)</code>\n",
    "\n",
    "Using combine_lambda, create a new column in inventory called full_description that has the complete description of each product."
   ]
  },
  {
   "cell_type": "code",
   "execution_count": 10,
   "id": "2096ae02",
   "metadata": {},
   "outputs": [
    {
     "name": "stdout",
     "output_type": "stream",
     "text": [
      "        location  product_type         product_description  quantity  price  \\\n",
      "0  Staten Island         seeds                       daisy         4   6.99   \n",
      "1  Staten Island         seeds                  calla lily        46  19.99   \n",
      "2  Staten Island         seeds                      tomato        85  13.99   \n",
      "3  Staten Island  garden tools                        rake         4  13.99   \n",
      "4  Staten Island  garden tools                 wheelbarrow         0  89.99   \n",
      "5  Staten Island  garden tools                       spade        93  19.99   \n",
      "6  Staten Island  pest_control               insect killer        74  12.99   \n",
      "7  Staten Island  pest_control                 weed killer         8  23.99   \n",
      "8  Staten Island       planter  20 inch terracotta planter         0  17.99   \n",
      "9  Staten Island       planter      8 inch plastic planter        53   3.99   \n",
      "\n",
      "   in_stock  total_value                      full_description  \n",
      "0      True        27.96                         seeds - daisy  \n",
      "1      True       919.54                    seeds - calla lily  \n",
      "2      True      1189.15                        seeds - tomato  \n",
      "3      True        55.96                   garden tools - rake  \n",
      "4     False         0.00            garden tools - wheelbarrow  \n",
      "5      True      1859.07                  garden tools - spade  \n",
      "6      True       961.26          pest_control - insect killer  \n",
      "7      True       191.92            pest_control - weed killer  \n",
      "8     False         0.00  planter - 20 inch terracotta planter  \n",
      "9      True       211.47      planter - 8 inch plastic planter  \n"
     ]
    }
   ],
   "source": [
    "combine_lambda = lambda row: \\\n",
    "    '{} - {}'.format(row.product_type,\n",
    "                     row.product_description)\n",
    "\n",
    "inventory['full_description'] = inventory.apply(combine_lambda, axis=1)\n",
    "print(inventory.head(10))"
   ]
  },
  {
   "cell_type": "code",
   "execution_count": null,
   "id": "9591b385",
   "metadata": {},
   "outputs": [],
   "source": []
  }
 ],
 "metadata": {
  "kernelspec": {
   "display_name": "Python 3 (ipykernel)",
   "language": "python",
   "name": "python3"
  },
  "language_info": {
   "codemirror_mode": {
    "name": "ipython",
    "version": 3
   },
   "file_extension": ".py",
   "mimetype": "text/x-python",
   "name": "python",
   "nbconvert_exporter": "python",
   "pygments_lexer": "ipython3",
   "version": "3.11.4"
  }
 },
 "nbformat": 4,
 "nbformat_minor": 5
}
