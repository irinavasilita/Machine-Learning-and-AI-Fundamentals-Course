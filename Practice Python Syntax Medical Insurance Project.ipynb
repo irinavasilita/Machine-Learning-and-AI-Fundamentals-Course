{
 "cells": [
  {
   "cell_type": "markdown",
   "id": "7ac921d1",
   "metadata": {},
   "source": [
    "# Python Syntax: Medical Insurance Project - Lesson 1 - Python Basics"
   ]
  },
  {
   "cell_type": "markdown",
   "id": "84c02393",
   "metadata": {},
   "source": [
    "Suppose you are a medical professional curious about how certain factors contribute to medical insurance costs. Using a formula that estimates a person's yearly insurance costs, you will investigate how different factors such as age, sex, BMI, etc. affect the prediction."
   ]
  },
  {
   "cell_type": "markdown",
   "id": "05392afb",
   "metadata": {},
   "source": [
    "## Setting up Factors"
   ]
  },
  {
   "cell_type": "markdown",
   "id": "e433bd9f",
   "metadata": {},
   "source": [
    "1. Our first step is to create the variables for each factor we will consider when estimating medical insurance costs.\n",
    "\n",
    "   These are the variables we will need to create:\n",
    "   - `age`: age of the individual in years\n",
    "   - `sex`: 0 for female, 1 for male*\n",
    "   - `bmi`: individual's body mass index\n",
    "   - `num_of_children`: number of children the individual has\n",
    "   - `smoker`: 0 for a non-smoker, 1 for a smoker\n",
    "   \n",
    "   In the code block below, create the following variables for a **28**-year-old, **nonsmoking woman** who has **three children** and a **BMI** of **26.2**.\n",
    "   \n",
    "   **Note**: We are using this [medical insurance dataset](https://www.kaggle.com/mirichoi0218/insurance) as a guide, which unfortunately does not include data for non-binary individuals."
   ]
  },
  {
   "cell_type": "code",
   "execution_count": 1,
   "id": "7f311028",
   "metadata": {},
   "outputs": [],
   "source": [
    "# create the initial variables below\n",
    "age = 28\n",
    "sex = 0\n",
    "bmi = 26.2\n",
    "num_of_children = 3\n",
    "smoker = 0"
   ]
  },
  {
   "cell_type": "markdown",
   "id": "2b7c2cbc",
   "metadata": {},
   "source": [
    "## Working with the Formula"
   ]
  },
  {
   "cell_type": "markdown",
   "id": "6db974a5",
   "metadata": {},
   "source": [
    "2. After the declaration of the variables, create a variable called `insurance_cost` that utilizes the following formula:\n",
    "\n",
    "   $$\n",
    "   \\begin{aligned}\n",
    "   insurance\\_cost = 250*age - 128*sex \\\\\n",
    "   + 370*bmi + 425*num\\_of\\_children \\\\\n",
    "   + 24000*smoker - 12500 \\\\\n",
    "   \\end{aligned}\n",
    "   $$"
   ]
  },
  {
   "cell_type": "code",
   "execution_count": 2,
   "id": "91f86188",
   "metadata": {},
   "outputs": [],
   "source": [
    "# Add insurance estimate formula below\n",
    "insurance_cost = 250 * age - 128 * sex + 370 * bmi + 425 * num_of_children + 24000 * smoker - 12500"
   ]
  },
  {
   "cell_type": "markdown",
   "id": "90e6bbe0",
   "metadata": {},
   "source": [
    "3. Let's display this value in an informative way. Print out the following string in the kernel:\n",
    "\n",
    "   ```\n",
    "   This person's insurance cost is {insurance_cost} dollars.\n",
    "   ```\n",
    "   \n",
    "   You will need to use string concatenation, including the `str()` function to print out the `insurance_cost`."
   ]
  },
  {
   "cell_type": "code",
   "execution_count": 4,
   "id": "cf6d3790",
   "metadata": {},
   "outputs": [
    {
     "name": "stdout",
     "output_type": "stream",
     "text": [
      "This person's insurance cost is 5469.0 dollars.\n"
     ]
    }
   ],
   "source": [
    "print (\"This person's insurance cost is \" + str(insurance_cost) + \" dollars.\")"
   ]
  },
  {
   "cell_type": "markdown",
   "id": "203e7e61",
   "metadata": {},
   "source": [
    "## Looking at Age Factor"
   ]
  },
  {
   "cell_type": "markdown",
   "id": "5c2f65d1",
   "metadata": {},
   "source": [
    "4. We have seen how our formula can estimate costs for one individual. Now let's play with some individual factors to see what role each one plays in our estimation!\n",
    "\n",
    "   Let's start with the `age` factor. Using a plus-equal operator, add 4 years to our `age` variable."
   ]
  },
  {
   "cell_type": "code",
   "execution_count": 6,
   "id": "eb23f0c0",
   "metadata": {},
   "outputs": [],
   "source": [
    "age += 4"
   ]
  },
  {
   "cell_type": "markdown",
   "id": "a18a8926",
   "metadata": {},
   "source": [
    "5. Now that we have changed our `age` value, we want to recalculate our insurance cost. Declare a new variable called `new_insurance_cost` in the code block below.\n",
    "\n",
    "   Make sure you leave the `insurance_cost` variable the same as in Task 2. We will use it later in our program!"
   ]
  },
  {
   "cell_type": "code",
   "execution_count": 7,
   "id": "50f6a44c",
   "metadata": {},
   "outputs": [],
   "source": [
    "new_insurance_cost = 250 * age - 128 * sex + 370 * bmi + 425 * num_of_children + 24000 * smoker - 12500"
   ]
  },
  {
   "cell_type": "markdown",
   "id": "d6c2393a",
   "metadata": {},
   "source": [
    "6. Next, we want to find the difference between our `new_insurance_cost` and `insurance_cost`. To do this, let's create a new variable called `change_in_insurance_cost` and set it equal to the difference between `new_insurance_cost` and `insurance_cost`.\n",
    "\n",
    "   Note: depending on the order that we subtract (eg., `new_insurance_cost - insurance_cost` vs. `insurance_cost - new_insurance_cost`), we'll get a positive or negative version of the same number. To make this difference interpretable, let's calculate `new_insurance cost - insurance_cost`. Then we can say, \"people who are four years older have estimated insurance costs that are `change_in_insurance_cost` dollars different, where the sign of `change_in_insurance_cost` tells us whether the cost is higher or lower\"."
   ]
  },
  {
   "cell_type": "code",
   "execution_count": 8,
   "id": "6b72279c",
   "metadata": {},
   "outputs": [],
   "source": [
    "change_in_insurance_cost = new_insurance_cost - insurance_cost"
   ]
  },
  {
   "cell_type": "markdown",
   "id": "2e6df15c",
   "metadata": {},
   "source": [
    "7. We want to display this information in an informative way similar to the output from instruction 3. In the code block below, print the following string, where `XXX` is replaced by the value of `change_in_insurance_cost`:\n",
    "\n",
    "   ```\n",
    "   The change in cost of insurance after increasing the age by 4 years is XXX dollars.\n",
    "   ```\n",
    "   \n",
    "   Doing this will tell us how 4 years in age affects medical insurance cost estimates assuming that all other variables remain the same.\n",
    "   \n",
    "   You will need to concatenate strings and use the `str()` method."
   ]
  },
  {
   "cell_type": "code",
   "execution_count": 9,
   "id": "0a999d40",
   "metadata": {},
   "outputs": [
    {
     "name": "stdout",
     "output_type": "stream",
     "text": [
      "The change in cost of insurance after increasing the age by 4 years is 1000.0 dollars.\n"
     ]
    }
   ],
   "source": [
    "print(\"The change in cost of insurance after increasing the age by 4 years is \" + str(change_in_insurance_cost) + \" dollars.\")"
   ]
  },
  {
   "cell_type": "markdown",
   "id": "23bc90cf",
   "metadata": {},
   "source": [
    "## Looking at BMI Factor"
   ]
  },
  {
   "cell_type": "markdown",
   "id": "81747d10",
   "metadata": {},
   "source": [
    "8. Now that you have looked at the age factor, let's move onto another one: BMI. First, we have to redefine our `age` variable to be its original value.\n",
    "\n",
    "   Set `age` to `28`. This will reset its value and allow us to focus on just the change in the BMI factor moving forward.\n",
    "   \n",
    "   On the next line, using the plus-equal operator, add `3.1` to our `bmi` variable."
   ]
  },
  {
   "cell_type": "code",
   "execution_count": 10,
   "id": "53ea7df3",
   "metadata": {},
   "outputs": [],
   "source": [
    "age = 28\n",
    "bmi += 3.1"
   ]
  },
  {
   "cell_type": "markdown",
   "id": "febe2c07",
   "metadata": {},
   "source": [
    "9. Now let's find out how a change in BMI affects insurance costs. Our next steps are pretty much the same as we have done before when looking at `age`.\n",
    "   1. Below the line where `bmi` was increased by `3.1`, rewrite the insurance cost formula and assign it to the variable name `new_insurance_cost`.\n",
    "   2. Save the difference between `new_insurance_cost` and `insurance_cost` in a variable called `change_in_insurance_cost`.\n",
    "   3. Display the following string in the output terminal, where `XXX` is replaced by the value of `change_in_insurance_cost`:\n",
    "   \n",
    "   ```py\n",
    "   The change in estimated insurance cost after increasing BMI by 3.1 is XXX dollars.\n",
    "   ```"
   ]
  },
  {
   "cell_type": "code",
   "execution_count": 11,
   "id": "19d121c8",
   "metadata": {},
   "outputs": [
    {
     "name": "stdout",
     "output_type": "stream",
     "text": [
      "The change in estimated insurance cost after increasing BMI by 3.1 is 1147.0 dollars.\n"
     ]
    }
   ],
   "source": [
    "new_insurance_cost = 250 * age - 128 * sex + 370 * bmi + 425 * num_of_children + 24000 * smoker - 12500\n",
    "change_in_insurance_cost = new_insurance_cost - insurance_cost\n",
    "print(f\"The change in estimated insurance cost after increasing BMI by 3.1 is {change_in_insurance_cost} dollars.\")"
   ]
  },
  {
   "cell_type": "markdown",
   "id": "26c3c473",
   "metadata": {},
   "source": [
    "## Looking at Male vs. Female Factor"
   ]
  },
  {
   "cell_type": "markdown",
   "id": "e0c96041",
   "metadata": {},
   "source": [
    "10. Let's look at the effect sex has on medical insurance costs. Before we make any additional changes, first reassign your `bmi` variable back to its original value of `26.2`.\n",
    "\n",
    "    On a new line of code in the code block below, reassign the value of `sex` to `1`. A reminder that `1` identifies male individuals and `0` identifies female individuals."
   ]
  },
  {
   "cell_type": "code",
   "execution_count": 12,
   "id": "ae87bfec",
   "metadata": {},
   "outputs": [],
   "source": [
    "bmi = 26.2\n",
    "sex = 1"
   ]
  },
  {
   "cell_type": "markdown",
   "id": "da20c656",
   "metadata": {},
   "source": [
    "11. Perform the steps below!\n",
    "    1. Rewrite the insurance cost formula and assign it to the variable name `new_insurance_cost`.\n",
    "    2. Save the difference between `new_insurance_cost` and `insurance_cost` in a variable called `change_in_insurance_cost`.\n",
    "    3. Display the following string, where `XXX` is replaced by the value of `change_in_insurance_cost`:\n",
    "    ```\n",
    "    The change in estimated cost for being male instead of female is XXX dollars.\n",
    "    ```"
   ]
  },
  {
   "cell_type": "code",
   "execution_count": 14,
   "id": "ce2da0e8",
   "metadata": {},
   "outputs": [
    {
     "name": "stdout",
     "output_type": "stream",
     "text": [
      "The change in estimated insurance for being male instead of female is -128.0 dollars.\n"
     ]
    }
   ],
   "source": [
    "new_insurance_cost = 250 * age - 128 * sex + 370 * bmi + 425 * num_of_children + 24000 * smoker - 12500\n",
    "change_in_insurance_cost = new_insurance_cost - insurance_cost\n",
    "print(f\"The change in estimated insurance for being male instead of female is {change_in_insurance_cost} dollars.\")"
   ]
  },
  {
   "cell_type": "markdown",
   "id": "f652d964",
   "metadata": {},
   "source": [
    "12. Notice that this time you got a negative value for `change_in_insurance_cost`. Let's think about what that means. We changed the sex variable from `0` (female) to `1` (male) and it decreased the estimated insurance costs.\n",
    "\n",
    "    This means that men tend to have lower medical costs on average than women. Reflect on the other findings you have dug up from this investigation so far."
   ]
  },
  {
   "cell_type": "markdown",
   "id": "deae95f4",
   "metadata": {},
   "source": [
    "## Extra Practice"
   ]
  },
  {
   "cell_type": "markdown",
   "id": "2e44bb53",
   "metadata": {},
   "source": [
    "13. Great job on the project!!!\n",
    "\n",
    "    So far we have looked at 3 of the 5 factors in the insurance costs formula. The two remaining are `smoker` and `num_of_children`. If you want to keep challenging yourself, spend some time investigating these factors!\n",
    "    1. Rewrite the insurance cost formula and assign it to the variable name `new_insurance_cost`.\n",
    "    2. Save the difference between `new_insurance_cost` in a variable called `change_in_insurance_cost`.\n",
    "    3. Display the information below!"
   ]
  },
  {
   "cell_type": "code",
   "execution_count": 15,
   "id": "ee321873",
   "metadata": {},
   "outputs": [
    {
     "name": "stdout",
     "output_type": "stream",
     "text": [
      "The change in estimated insurance for being a smoker is 24000.0 dollars.\n"
     ]
    }
   ],
   "source": [
    "sex = 0\n",
    "smoker = 1\n",
    "new_insurance_cost = 250 * age - 128 * sex + 370 * bmi + 425 * num_of_children + 24000 * smoker - 12500\n",
    "change_in_insurance_cost = new_insurance_cost - insurance_cost\n",
    "print(f\"The change in estimated insurance for being a smoker is {change_in_insurance_cost} dollars.\")"
   ]
  },
  {
   "cell_type": "code",
   "execution_count": 16,
   "id": "de87f356",
   "metadata": {},
   "outputs": [
    {
     "name": "stdout",
     "output_type": "stream",
     "text": [
      "The change in estimated insurance for not having children is -1275.0 dollars.\n"
     ]
    }
   ],
   "source": [
    "smoker = 0\n",
    "num_of_children = 0\n",
    "new_insurance_cost = 250 * age - 128 * sex + 370 * bmi + 425 * num_of_children + 24000 * smoker - 12500\n",
    "change_in_insurance_cost = new_insurance_cost - insurance_cost\n",
    "print(f\"The change in estimated insurance for not having children is {change_in_insurance_cost} dollars.\")"
   ]
  },
  {
   "cell_type": "markdown",
   "id": "b1e7f533",
   "metadata": {},
   "source": [
    "# Python Syntax: Medical Insurance Project - Lesson 2 - Python Functions"
   ]
  },
  {
   "cell_type": "markdown",
   "id": "2786f4d3",
   "metadata": {},
   "source": [
    "In this code, we estimate the medical insurance costs for two individuals, Maria and Omar, based on five variables:\n",
    "\n",
    "`age`: age of the individual in years\n",
    "\n",
    "`sex`: 0 for female, 1 for male\n",
    "\n",
    "`bmi`: individual’s body mass index\n",
    "\n",
    "`num_of_children`: number of children the individual has\n",
    "\n",
    "`smoker`: 0 for a non-smoker, 1 for a smoker\n",
    "\n",
    "These variables are used in the following formula to estimate an individual’s insurance cost (in USD):\n",
    "\n",
    "   $$\n",
    "   \\begin{aligned}\n",
    "   insurance\\_cost = 250*age - 128*sex \\\\\n",
    "   + 370*bmi + 425*num\\_of\\_children \\\\\n",
    "   + 24000*smoker - 12500 \\\\\n",
    "   \\end{aligned}\n",
    "   $$"
   ]
  },
  {
   "cell_type": "code",
   "execution_count": 1,
   "id": "88bdfc4e",
   "metadata": {},
   "outputs": [
    {
     "name": "stdout",
     "output_type": "stream",
     "text": [
      "The estimated insurance cost for Maria is 5469.0 dollars.\n",
      "The estimated insurance cost for Omar is 28336.0 dollars.\n"
     ]
    }
   ],
   "source": [
    "# Initial variables for Maria \n",
    "age = 28\n",
    "sex = 0  \n",
    "bmi = 26.2\n",
    "num_of_children = 3\n",
    "smoker = 0  \n",
    "\n",
    "# Estimate Maria's insurance cost\n",
    "insurance_cost = 250*age - 128*sex + 370*bmi + 425*num_of_children + 24000*smoker - 12500\n",
    "\n",
    "print(\"The estimated insurance cost for Maria is \" + str(insurance_cost) + \" dollars.\")\n",
    "\n",
    "# Initial variables for Omar\n",
    "age = 35\n",
    "sex = 1 \n",
    "bmi = 22.2\n",
    "num_of_children = 0\n",
    "smoker = 1  \n",
    "\n",
    "# Estimate Omar's insurance cost \n",
    "insurance_cost = 250*age - 128*sex + 370*bmi + 425*num_of_children + 24000*smoker - 12500\n",
    "\n",
    "print(\"The estimated insurance cost for Omar is \" + str(insurance_cost) + \" dollars.\")"
   ]
  },
  {
   "cell_type": "markdown",
   "id": "f3b6347d",
   "metadata": {},
   "source": [
    "The code used to estimate insurance costs for Maria and Omar looks quite similar – in both cases we calculate the insurance cost using the same formula and then print the output.\n",
    "\n",
    "This code is a great candidate for a function because it involves repeating almost identical commands in multiple places.\n",
    "\n",
    "Let’s start by defining a function called `calculate_insurance_cost()`.\n",
    "\n",
    "Then, inside of `calculate_insurance_cost()`, do the following:\n",
    "\n",
    "* Create a variable called `estimated_cost`. For now, set this variable equal to a value of `1000`. You’ll add the full formula in the next step.\n",
    "* Add a print statement that prints `estimated_cost`. You should output a message similar to: `\"The estimated insurance cost for this person is xxx dollars.\"`\n",
    "* Return `estimated_cost`\n"
   ]
  },
  {
   "cell_type": "code",
   "execution_count": 3,
   "id": "83729067",
   "metadata": {},
   "outputs": [],
   "source": [
    "def calculate_insurance_cost():\n",
    "    estimated_cost = 1000\n",
    "    print(f\"The estimated insurance cost for this person is {estimated_cost} dollars.\")\n",
    "    return estimated_cost"
   ]
  },
  {
   "cell_type": "markdown",
   "id": "4f80ed7c",
   "metadata": {},
   "source": [
    "The function currently returns a value of 1000. We want it to return our insurance cost formula instead.\n",
    "\n",
    "Modify the function definition so that it contains five parameters:\n",
    "\n",
    "* `age`\n",
    "* `sex`\n",
    "* `bmi`\n",
    "* `num_of_children`\n",
    "* `smoker`"
   ]
  },
  {
   "cell_type": "code",
   "execution_count": 4,
   "id": "08b31958",
   "metadata": {},
   "outputs": [],
   "source": [
    "def calculate_insurance_cost(age, sex, bmi, num_of_children, smoker):\n",
    "    estimated_cost = 1000\n",
    "    print(f\"The estimated insurance cost for this person is {estimated_cost} dollars.\")\n",
    "    return estimated_cost"
   ]
  },
  {
   "cell_type": "markdown",
   "id": "b606c8e1",
   "metadata": {},
   "source": [
    "Now that we have set up the function to take inputs for each of the values needed in the insurance formula, we can make use of them inside of our function.\n",
    "\n",
    "In `calculate_insurance_cost()`, change the value of estimated_cost from `1000` to our formula for insurance cost."
   ]
  },
  {
   "cell_type": "code",
   "execution_count": 5,
   "id": "673d993a",
   "metadata": {},
   "outputs": [],
   "source": [
    "def calculate_insurance_cost(age, sex, bmi, num_of_children, smoker):\n",
    "    estimated_cost = 250*age - 128*sex + 370*bmi + 425*num_of_children + 24000*smoker - 12500\n",
    "    print(f\"The estimated insurance cost for this person is {estimated_cost} dollars.\")\n",
    "    return estimated_cost"
   ]
  },
  {
   "cell_type": "markdown",
   "id": "beea1e33",
   "metadata": {},
   "source": [
    "The function is now properly set up to calculate an individual’s medical insurance costs based on the five variables passed into it. Let’s test this out!\n",
    "\n",
    "Go to the section of code that estimates Maria’s insurance cost.\n",
    "\n",
    "Rename `insurance_cost` as `maria_insurance_cost` and set it equal to `calculate_insurance_cost()` with the appropriate values for Maria as arguments.\n",
    "\n",
    "Now, remove the print statement for Maria since our function will take care of printing the estimated cost for us.\n",
    "\n",
    "Additionally, remove the five lines of code defining the initial variables for Maria, as we are now passing in these values directly in the function call.\n",
    "\n",
    "Repeat for Omar."
   ]
  },
  {
   "cell_type": "code",
   "execution_count": 8,
   "id": "52beb2f1",
   "metadata": {},
   "outputs": [
    {
     "name": "stdout",
     "output_type": "stream",
     "text": [
      "The estimated insurance cost for this person is 5469.0 dollars.\n",
      "The estimated insurance cost for this person is 28336.0 dollars.\n"
     ]
    }
   ],
   "source": [
    "# Estimate Maria's insurance cost\n",
    "maria_insurance_cost = calculate_insurance_cost(28, 0, 26.2, 3, 0) \n",
    "\n",
    "# Estimate Omar's insurance cost \n",
    "omar_insurance_cost = calculate_insurance_cost(35, 1, 22.2, 0, 1)"
   ]
  },
  {
   "cell_type": "markdown",
   "id": "b3ae765d",
   "metadata": {},
   "source": [
    "In the output terminal, notice that it says `\"The estimated insurance cost for this person is...\"` but it does not specify the actual name of the person.\n",
    "\n",
    "To fix this, begin by adding an additional parameter called `name` to the function definition.\n",
    "\n",
    "Next, modify the print statement in the function so that it includes the new `name` parameter, replacing `\"this person\"` with the actual name of the person.\n",
    "\n",
    "We must also update our function calls, passing in the `name` variable as an argument.\n",
    "\n",
    "Update the function call for `maria_insurance_cost`, passing in `name = \"Maria\"` as an argument.\n",
    "\n",
    "Do the same for Omar, passing in `name = \"Omar\"`."
   ]
  },
  {
   "cell_type": "code",
   "execution_count": 9,
   "id": "e28fb2fd",
   "metadata": {},
   "outputs": [],
   "source": [
    "def calculate_insurance_cost(age, sex, bmi, num_of_children, smoker, name):\n",
    "    estimated_cost = 250*age - 128*sex + 370*bmi + 425*num_of_children + 24000*smoker - 12500\n",
    "    print(f\"The estimated insurance cost for {name} is {estimated_cost} dollars.\")\n",
    "    return estimated_cost"
   ]
  },
  {
   "cell_type": "code",
   "execution_count": null,
   "id": "1b7cc4f6",
   "metadata": {},
   "outputs": [],
   "source": [
    "# Estimate Maria's insurance cost\n",
    "maria_insurance_cost = calculate_insurance_cost(28, 0, 26.2, 3, 0, \"Maria\") \n",
    "\n",
    "# Estimate Omar's insurance cost \n",
    "omar_insurance_cost = calculate_insurance_cost(35, 1, 22.2, 0, 1, \"Omar\")"
   ]
  },
  {
   "cell_type": "markdown",
   "id": "3f4f2069",
   "metadata": {},
   "source": [
    "# Python Syntax: Medical Insurance Project - Lesson 3 - Control Flow"
   ]
  },
  {
   "cell_type": "markdown",
   "id": "38fc73f7",
   "metadata": {},
   "source": [
    "The function `estimate_insurance_cost()` estimates the medical insurance cost for an individual, based on four variables:\n",
    "\n",
    "* `age`: age of the individual in years\n",
    "* `sex`: 0 for female, 1 if male\n",
    "* `num_of_children`: number of children the individual has\n",
    "* `smoker`: 0 for a non-smoker, 1 for a smoker\n",
    "\n",
    "These variables are used in the following formula to estimate an individual’s insurance cost:\n",
    "\n",
    "   $$\n",
    "   \\begin{aligned}\n",
    "   insurance\\_cost = 400*age - 128*sex \\\\\n",
    "   + 425*num\\_of\\_children \\\\\n",
    "   + 10000*smoker - 2500 \\\\\n",
    "   \\end{aligned}\n",
    "   $$"
   ]
  },
  {
   "cell_type": "code",
   "execution_count": 12,
   "id": "3655a9f4",
   "metadata": {},
   "outputs": [
    {
     "name": "stdout",
     "output_type": "stream",
     "text": [
      "Keanu's Estimated Insurance Cost: 20247 dollars.\n"
     ]
    }
   ],
   "source": [
    "# Function to estimate insurance cost:\n",
    "def estimate_insurance_cost(name, age, sex, num_of_children, smoker):\n",
    "    estimated_cost = 400*age - 128*sex + 425*num_of_children + 10000*smoker - 2500\n",
    "    print(name + \"'s Estimated Insurance Cost: \" + str(estimated_cost) + \" dollars.\")\n",
    "    return estimated_cost\n",
    " \n",
    "# Estimate Keanu's insurance cost\n",
    "keanu_insurance_cost = estimate_insurance_cost(name = 'Keanu', age = 29, sex = 1, num_of_children = 3, smoker = 1)"
   ]
  },
  {
   "cell_type": "markdown",
   "id": "07d3b460",
   "metadata": {},
   "source": [
    "Currently, our function prints out the estimated insurance cost based on the values passed into the function. But it doesn’t do much beyond that.\n",
    "\n",
    "It would be much more helpful if our function could provide more insight into how we can lower our insurance cost. We’ll learn to do exactly that by using control flow – `if`, `elif`, and `else` statements – in our code.\n",
    "\n",
    "In general, insurance costs are higher for smokers. We can use data from the smoker variable to provide advice on how to lower insurance costs.\n",
    "\n",
    "Let’s create a function that analyzes an individual’s smoking status.\n",
    "\n",
    "At the top of your code, define a function called `analyze_smoker()` that takes an input `smoker_status`.\n",
    "\n",
    "Inside of the `analyze_smoker()` function, write an if/else statement that does the following:\n",
    "\n",
    "If `smoker_status` is equal to 1, print `\"To lower your cost, you should consider quitting smoking.\"`\n",
    "Otherwise, print `\"Smoking is not an issue for you.\"`"
   ]
  },
  {
   "cell_type": "code",
   "execution_count": 13,
   "id": "be4e1853",
   "metadata": {},
   "outputs": [],
   "source": [
    "def analyze_smoker(smoker_status):\n",
    "    if smoker_status == 1:\n",
    "        print(\"To lower your cost, you should consider quitting smoking.\")\n",
    "    else:\n",
    "        print(\"Smoking is not an issue for you.\")"
   ]
  },
  {
   "cell_type": "markdown",
   "id": "34d4844e",
   "metadata": {},
   "source": [
    "Now that we’ve written the `analyze_smoker()` function, let’s make use of it.\n",
    "\n",
    "In the `estimate_insurance_cost()` function, go to the line of code that prints the estimated insurance cost. On the next line, make a function call to `analyze_smoker()`, passing in the smoker variable as an argument."
   ]
  },
  {
   "cell_type": "code",
   "execution_count": 14,
   "id": "e21ad97d",
   "metadata": {},
   "outputs": [
    {
     "name": "stdout",
     "output_type": "stream",
     "text": [
      "Keanu's Estimated Insurance Cost: 20247 dollars.\n",
      "To lower your cost, you should consider quitting smoking.\n"
     ]
    }
   ],
   "source": [
    "# Function to estimate insurance cost:\n",
    "def estimate_insurance_cost(name, age, sex, num_of_children, smoker):\n",
    "    estimated_cost = 400*age - 128*sex + 425*num_of_children + 10000*smoker - 2500\n",
    "    print(name + \"'s Estimated Insurance Cost: \" + str(estimated_cost) + \" dollars.\")\n",
    "    analyze_smoker(smoker)\n",
    "    return estimated_cost\n",
    " \n",
    "# Estimate Keanu's insurance cost\n",
    "keanu_insurance_cost = estimate_insurance_cost(name = 'Keanu', age = 29, sex = 1, num_of_children = 3, smoker = 1)"
   ]
  },
  {
   "cell_type": "markdown",
   "id": "c3d0f83c",
   "metadata": {},
   "source": [
    "# Python Syntax: Medical Insurance Project - Lesson 4 - Python Lists"
   ]
  },
  {
   "cell_type": "markdown",
   "id": "decbb4a5",
   "metadata": {},
   "source": [
    "First, take a look at the code below.\n",
    "\n",
    "The function estimate_insurance_cost() estimates the medical insurance cost for an individual, based on five variables:\n",
    "\n",
    "* `age`: age of the individual in years\n",
    "* `sex`: 0 for female, 1 for male\n",
    "* `bmi`: individual’s body mass index\n",
    "* `num_of_children`: number of children the individual has\n",
    "* `smoker`: 0 for a non-smoker, 1 for a smoker\n",
    "\n",
    "These variables are used in the following formula to estimate an individual’s insurance cost (in USD):\n",
    "\n",
    "   $$\n",
    "   \\begin{aligned}\n",
    "   insurance\\_cost = 250*age - 128*sex \\\\\n",
    "   + 370*bmi + 425*num\\_of\\_children \\\\\n",
    "   + 24000*smoker - 12500 \\\\\n",
    "   \\end{aligned}\n",
    "   $$"
   ]
  },
  {
   "cell_type": "code",
   "execution_count": 20,
   "id": "8906eb34",
   "metadata": {},
   "outputs": [
    {
     "name": "stdout",
     "output_type": "stream",
     "text": [
      "Maria's Estimated Insurance Cost: 4222.0 dollars.\n",
      "Rohan's Estimated Insurance Cost: 5442.0 dollars.\n",
      "Valentina's Estimated Insurance Cost: 36368.0 dollars.\n"
     ]
    }
   ],
   "source": [
    "# Function to estimate insurance cost:\n",
    "def estimate_insurance_cost(name, age, sex, bmi, num_of_children, smoker):\n",
    "    estimated_cost = 250*age - 128*sex + 370*bmi + 425*num_of_children + 24000*smoker - 12500\n",
    "    print(name + \"'s Estimated Insurance Cost: \" + str(estimated_cost) + \" dollars.\")\n",
    "    return estimated_cost\n",
    " \n",
    "# Estimate Maria's insurance cost\n",
    "maria_insurance_cost = estimate_insurance_cost(name = \"Maria\", age = 31, sex = 0, bmi = 23.1, num_of_children = 1, smoker = 0)\n",
    "\n",
    "# Estimate Rohan's insurance cost\n",
    "rohan_insurance_cost = estimate_insurance_cost(name = \n",
    "\"Rohan\", age = 25, sex = 1, bmi = 28.5, num_of_children = 3, smoker = 0)\n",
    "\n",
    "# Estimate Valentina's insurance cost\n",
    "valentina_insurance_cost = estimate_insurance_cost(name = \"Valentina\", age = 53, sex = 0, bmi = 31.4, num_of_children = 0, smoker = 1)"
   ]
  },
  {
   "cell_type": "markdown",
   "id": "61b7e26e",
   "metadata": {},
   "source": [
    "We want to compare the estimated insurance costs (as calculated by our function) to the actual amounts that Maria, Rohan, and Valentina paid.\n",
    "\n",
    "Create a list called `names` and fill it with the names of the individuals you are estimating insurance costs for:\n",
    "\n",
    "* \"Maria\"\n",
    "* \"Rohan\"\n",
    "* \"Valentina\"\n",
    "\n",
    "Next, create a list called `insurance_costs` and fill it with the actual amounts that Maria, Rohan, and Valentina paid for insurance:\n",
    "\n",
    "* 4150.0\n",
    "* 5320.0\n",
    "* 35210.0"
   ]
  },
  {
   "cell_type": "code",
   "execution_count": 21,
   "id": "8c4738ae",
   "metadata": {},
   "outputs": [],
   "source": [
    "names = [\"Maria\", \"Rohan\", \"Valentina\"]\n",
    "insurance_costs = [4150.0, 5320.0, 35210.0]"
   ]
  },
  {
   "cell_type": "markdown",
   "id": "fb8d9d38",
   "metadata": {},
   "source": [
    "Currently the `names` and `insurance_costs` lists are separate, but we want each name to be paired with an insurance cost.\n",
    "\n",
    "Create a new variable called `insurance_data` that combines `names` and `insurance_costs` using the `zip()` function.\n",
    "\n",
    "Print this new variable."
   ]
  },
  {
   "cell_type": "code",
   "execution_count": 22,
   "id": "bf75ad8a",
   "metadata": {},
   "outputs": [
    {
     "name": "stdout",
     "output_type": "stream",
     "text": [
      "[('Maria', 4150.0), ('Rohan', 5320.0), ('Valentina', 35210.0)]\n"
     ]
    }
   ],
   "source": [
    "insurance_data = zip(names, insurance_costs)\n",
    "insurance_data = list(insurance_data)\n",
    "print(insurance_data)"
   ]
  },
  {
   "cell_type": "markdown",
   "id": "d128623d",
   "metadata": {},
   "source": [
    "Next, create an empty list called `estimated_insurance_data`.\n",
    "\n",
    "This is the list we’ll use to store the estimated insurance costs for our three individuals.\n",
    "\n",
    "We want to add our estimated insurance data for Maria, Rohan, and Valentina to the `estimated_insurance_data` list.\n",
    "\n",
    "Use `.append()` to add `(\"Maria\", maria_insurance_cost)` to `estimated_insurance_data`. Do the same for Rohan and Valentina.\n",
    "\n",
    "Print `estimated_insurance_data`."
   ]
  },
  {
   "cell_type": "code",
   "execution_count": 23,
   "id": "680e8b5d",
   "metadata": {},
   "outputs": [
    {
     "name": "stdout",
     "output_type": "stream",
     "text": [
      "[('Maria', 4222.0), ('Rohan', 5442.0), ('Valentina', 4222.0)]\n"
     ]
    }
   ],
   "source": [
    "estimated_insurance_data = []\n",
    "estimated_insurance_data.append((\"Maria\", maria_insurance_cost))\n",
    "estimated_insurance_data.append((\"Rohan\", rohan_insurance_cost))\n",
    "estimated_insurance_data.append((\"Valentina\", maria_insurance_cost))\n",
    "print(estimated_insurance_data)"
   ]
  },
  {
   "cell_type": "markdown",
   "id": "ff710a75",
   "metadata": {},
   "source": [
    "Now we have two lists. The first one represents the actual insurance cost data and the second one represents the estimated insurance cost data.\n",
    "\n",
    "However, it’s difficult to know this just by looking at the output. As a data scientist, you want to make sure that your data is clean and easy to understand.\n",
    "\n",
    "Add to the print statement for `insurance_data` so that it’s clear what the list contains. The output of the print statement should look like:\n",
    "\n",
    "Here is the actual insurance cost data: [...list output...]\n",
    "\n",
    "Do the same for the print statement that prints `estimated_insurance_data`. The output should look like:\n",
    "\n",
    "Here is the estimated insurance cost data: [...list output...]"
   ]
  },
  {
   "cell_type": "code",
   "execution_count": 24,
   "id": "9c2d3e55",
   "metadata": {},
   "outputs": [
    {
     "name": "stdout",
     "output_type": "stream",
     "text": [
      "Here is the actual insurance cost data: [('Maria', 4150.0), ('Rohan', 5320.0), ('Valentina', 35210.0)]\n",
      "Here is the estimated insurance cost data: [('Maria', 4222.0), ('Rohan', 5442.0), ('Valentina', 4222.0)]\n"
     ]
    }
   ],
   "source": [
    "print(f'Here is the actual insurance cost data: {insurance_data}')\n",
    "print(f'Here is the estimated insurance cost data: {estimated_insurance_data}')"
   ]
  },
  {
   "cell_type": "markdown",
   "id": "6a607689",
   "metadata": {},
   "source": [
    "It should be much more clear from the output what each of the two lists represents, helping you better understand the data you’re working with.\n",
    "\n",
    "You may notice that there are differences between the actual insurance costs and estimated insurance costs. This means that our `estimate_insurance_cost()` function does not calculate insurance costs with 100% accuracy.\n",
    "\n",
    "Compare the estimated insurance data to the actual insurance data. Do the estimated insurance costs seem to be overestimated or underestimated?"
   ]
  },
  {
   "cell_type": "markdown",
   "id": "b8ad0aac",
   "metadata": {},
   "source": [
    "If you’d like additional practice on lists, here are some ways you might extend this project:\n",
    "\n",
    "* Calculate the difference between the actual insurance cost data and the estimated insurance cost data for each individual, and store the results in a list called `insurance_cost_difference`.\n",
    "* Estimate the insurance cost for a new individual, Akira, who is a 19 year-old male non-smoker with no children and a BMI of 27.1. Make sure to append his name to `names` and his actual insurance cost, 2930.0, to `insurance_costs`."
   ]
  },
  {
   "cell_type": "code",
   "execution_count": 25,
   "id": "66d3bbae",
   "metadata": {},
   "outputs": [
    {
     "name": "stdout",
     "output_type": "stream",
     "text": [
      "[72.0, 122.0, -30988.0]\n"
     ]
    }
   ],
   "source": [
    "insurance_cost_difference = [estimated_insurance_data[0][1]-insurance_data[0][1],\n",
    "                            estimated_insurance_data[1][1]-insurance_data[1][1],\n",
    "                            estimated_insurance_data[2][1]-insurance_data[2][1]]\n",
    "print(insurance_cost_difference)"
   ]
  },
  {
   "cell_type": "code",
   "execution_count": 26,
   "id": "8d43c4ef",
   "metadata": {},
   "outputs": [
    {
     "name": "stdout",
     "output_type": "stream",
     "text": [
      "Akira's Estimated Insurance Cost: 2149.0 dollars.\n"
     ]
    }
   ],
   "source": [
    "names.append(\"Akira\")\n",
    "akira_insurance_cost = estimate_insurance_cost(name = \"Akira\", age = 19, sex = 1, bmi = 27.1, num_of_children = 0, smoker = 0)\n",
    "insurance_costs.append(akira_insurance_cost)"
   ]
  },
  {
   "cell_type": "code",
   "execution_count": 27,
   "id": "322b6ed6",
   "metadata": {},
   "outputs": [
    {
     "name": "stdout",
     "output_type": "stream",
     "text": [
      "['Maria', 'Rohan', 'Valentina', 'Akira']\n",
      "[4150.0, 5320.0, 35210.0, 2149.0]\n"
     ]
    }
   ],
   "source": [
    "print(names)\n",
    "print(insurance_costs)"
   ]
  },
  {
   "cell_type": "markdown",
   "id": "c4be679d",
   "metadata": {},
   "source": [
    "# Python Syntax: Medical Insurance Project - Lesson 5 - Working with Python Lists"
   ]
  },
  {
   "cell_type": "markdown",
   "id": "ce028f64",
   "metadata": {},
   "source": [
    "The list `names` stores the names of ten individuals, and `insurance_costs` stores their medical insurance costs.\n",
    "\n",
    "Let’s add additional data to these lists:\n",
    "\n",
    "* Append a new individual, \"Priscilla\", to `names`.\n",
    "* Append her insurance cost, 8320.0, to `insurance_costs`.\n",
    "\n",
    "Currently, the `names` and `insurance_costs` lists are separate, but we want each insurance cost to be paired with a name.\n",
    "\n",
    "Create a new variable called `medical_records` that combines `insurance_costs` and `names` into a list using the zip() function.\n",
    "\n",
    "Print out `medical_records`."
   ]
  },
  {
   "cell_type": "code",
   "execution_count": 28,
   "id": "92213620",
   "metadata": {},
   "outputs": [],
   "source": [
    "names = [\"Mohamed\", \"Sara\", \"Xia\", \"Paul\", \"Valentina\", \"Jide\", \"Aaron\", \"Emily\", \"Nikita\", \"Paul\"]\n",
    "insurance_costs = [13262.0, 4816.0, 6839.0, 5054.0, 14724.0, 5360.0, 7640.0, 6072.0, 2750.0, 12064.0]"
   ]
  },
  {
   "cell_type": "code",
   "execution_count": 29,
   "id": "ba963ba2",
   "metadata": {},
   "outputs": [],
   "source": [
    "names.append(\"Priscilla\")\n",
    "insurance_costs.append(8320.0)"
   ]
  },
  {
   "cell_type": "code",
   "execution_count": 30,
   "id": "73553e3b",
   "metadata": {},
   "outputs": [
    {
     "name": "stdout",
     "output_type": "stream",
     "text": [
      "[(13262.0, 'Mohamed'), (4816.0, 'Sara'), (6839.0, 'Xia'), (5054.0, 'Paul'), (14724.0, 'Valentina'), (5360.0, 'Jide'), (7640.0, 'Aaron'), (6072.0, 'Emily'), (2750.0, 'Nikita'), (12064.0, 'Paul'), (8320.0, 'Priscilla')]\n"
     ]
    }
   ],
   "source": [
    "medical_records = list(zip(insurance_costs, names))\n",
    "print(medical_records)"
   ]
  },
  {
   "cell_type": "markdown",
   "id": "96d7187b",
   "metadata": {},
   "source": [
    "Let’s explore our medical data.\n",
    "\n",
    "We want to see how many medical records we’re dealing with. Create a variable called `num_medical_records` that stores the length of `medical_records`.\n",
    "\n",
    "Print `num_medical_records` with the following message:\n",
    "\n",
    "There are {number of medical records} medical records."
   ]
  },
  {
   "cell_type": "code",
   "execution_count": 32,
   "id": "f3645d78",
   "metadata": {},
   "outputs": [
    {
     "name": "stdout",
     "output_type": "stream",
     "text": [
      "There are 11 medical records.\n"
     ]
    }
   ],
   "source": [
    "num_medical_records = len(medical_records)\n",
    "print(f'There are {num_medical_records} medical records.')"
   ]
  },
  {
   "cell_type": "markdown",
   "id": "1e2cfd31",
   "metadata": {},
   "source": [
    "Select the first medical record in medical_records, and save it to a variable called `first_medical_record`.\n",
    "\n",
    "Print `first_medical_record` with the following message:\n",
    "\n",
    "Here is the first medical record: {first medical record}"
   ]
  },
  {
   "cell_type": "code",
   "execution_count": 33,
   "id": "861f8e96",
   "metadata": {},
   "outputs": [
    {
     "name": "stdout",
     "output_type": "stream",
     "text": [
      "Here is the first medical record: (13262.0, 'Mohamed')\n"
     ]
    }
   ],
   "source": [
    "first_medical_record = medical_records[0]\n",
    "print(f'Here is the first medical record: {first_medical_record}')"
   ]
  },
  {
   "cell_type": "markdown",
   "id": "60ae53b0",
   "metadata": {},
   "source": [
    "Sort `medical_records` so that the individuals with the lowest insurance costs appear at the start of the list.\n",
    "\n",
    "Print the sorted `medical_records` with the following message:\n",
    "\n",
    "Here are the medical records sorted by insurance cost: {sorted list}"
   ]
  },
  {
   "cell_type": "code",
   "execution_count": 35,
   "id": "cb96f2a6",
   "metadata": {},
   "outputs": [
    {
     "name": "stdout",
     "output_type": "stream",
     "text": [
      "Here are the medical records sorted by insurance cost: [(2750.0, 'Nikita'), (4816.0, 'Sara'), (5054.0, 'Paul'), (5360.0, 'Jide'), (6072.0, 'Emily'), (6839.0, 'Xia'), (7640.0, 'Aaron'), (8320.0, 'Priscilla'), (12064.0, 'Paul'), (13262.0, 'Mohamed'), (14724.0, 'Valentina')]\n"
     ]
    }
   ],
   "source": [
    "medical_records.sort()\n",
    "print(f'Here are the medical records sorted by insurance cost: {medical_records}')"
   ]
  },
  {
   "cell_type": "markdown",
   "id": "d80c645f",
   "metadata": {},
   "source": [
    "Let’s look at the three cheapest insurance costs in our medical records.\n",
    "\n",
    "Slice the `medical_records` list, and store the three cheapest insurance costs in a list called `cheapest_three`.\n",
    "\n",
    "Print `cheapest_three` with the following message:\n",
    "\n",
    "Here are the three cheapest insurance costs in our medical records: {cheapest three}"
   ]
  },
  {
   "cell_type": "code",
   "execution_count": 37,
   "id": "49c8ad41",
   "metadata": {},
   "outputs": [
    {
     "name": "stdout",
     "output_type": "stream",
     "text": [
      "Here are the three cheapest insurance costs in our medical records: [(2750.0, 'Nikita'), (4816.0, 'Sara'), (5054.0, 'Paul')]\n"
     ]
    }
   ],
   "source": [
    "cheapest_three = medical_records[0:3]\n",
    "print(f'Here are the three cheapest insurance costs in our medical records: {cheapest_three}')"
   ]
  },
  {
   "cell_type": "markdown",
   "id": "95575896",
   "metadata": {},
   "source": [
    "Let’s look at the three most expensive insurance costs in our medical records.\n",
    "\n",
    "Slice the `medical_records` list, and store the three most expensive insurance costs in a list called `priciest_three`.\n",
    "\n",
    "Print `priciest_three` with the following message:\n",
    "\n",
    "Here are the three most expensive insurance costs in our medical records: {priciest three}\n"
   ]
  },
  {
   "cell_type": "code",
   "execution_count": 39,
   "id": "0f921671",
   "metadata": {},
   "outputs": [
    {
     "name": "stdout",
     "output_type": "stream",
     "text": [
      "Here are the three most expensive insurance costs in our medical records: [(12064.0, 'Paul'), (13262.0, 'Mohamed'), (14724.0, 'Valentina')]\n"
     ]
    }
   ],
   "source": [
    "priciest_three = medical_records[-3:]\n",
    "print(f'Here are the three most expensive insurance costs in our medical records: {priciest_three}')"
   ]
  },
  {
   "cell_type": "markdown",
   "id": "d4aa9f26",
   "metadata": {},
   "source": [
    "Some individuals in our medical records have the same name. For example, the name “Paul” shows up twice.\n",
    "\n",
    "Count the number of occurrences of “Paul” in the `names` list, and store the result in a variable called `occurrences_paul`.\n",
    "\n",
    "Print `occurrences_paul` with the following message:\n",
    "\n",
    "There are {occurrences Paul} individuals with the name Paul in our medical records."
   ]
  },
  {
   "cell_type": "code",
   "execution_count": 40,
   "id": "6ec4cc59",
   "metadata": {},
   "outputs": [
    {
     "name": "stdout",
     "output_type": "stream",
     "text": [
      "There are 2 individuals with the name Paul in our medical records.\n"
     ]
    }
   ],
   "source": [
    "occurrences_paul = names.count(\"Paul\")\n",
    "print(f'There are {occurrences_paul} individuals with the name Paul in our medical records.')"
   ]
  },
  {
   "cell_type": "markdown",
   "id": "2010876f",
   "metadata": {},
   "source": [
    "If you’d like additional practice on lists, here are some ways you might extend this project:\n",
    "\n",
    "* Sort the medical records alphabetically by name. You’ll have to create a new list using `zip()` to do this.\n",
    "* Select the medical records starting at index 3 and ending at index 7 and save it in a variable called `middle_five_records`."
   ]
  },
  {
   "cell_type": "code",
   "execution_count": 41,
   "id": "bcd5b0c0",
   "metadata": {},
   "outputs": [],
   "source": [
    "medical_records_by_name = list(zip(names, insurance_costs))\n",
    "medical_records_by_name.sort()"
   ]
  },
  {
   "cell_type": "code",
   "execution_count": 42,
   "id": "d16ce111",
   "metadata": {},
   "outputs": [
    {
     "name": "stdout",
     "output_type": "stream",
     "text": [
      "[('Aaron', 7640.0), ('Emily', 6072.0), ('Jide', 5360.0), ('Mohamed', 13262.0), ('Nikita', 2750.0), ('Paul', 5054.0), ('Paul', 12064.0), ('Priscilla', 8320.0), ('Sara', 4816.0), ('Valentina', 14724.0), ('Xia', 6839.0)]\n"
     ]
    }
   ],
   "source": [
    "print(medical_records_by_name)"
   ]
  },
  {
   "cell_type": "code",
   "execution_count": 44,
   "id": "c2dffdd3",
   "metadata": {},
   "outputs": [
    {
     "name": "stdout",
     "output_type": "stream",
     "text": [
      "[(5360.0, 'Jide'), (6072.0, 'Emily'), (6839.0, 'Xia'), (7640.0, 'Aaron'), (8320.0, 'Priscilla')]\n"
     ]
    }
   ],
   "source": [
    "middle_five_records = medical_records[3:8]\n",
    "print(middle_five_records)"
   ]
  },
  {
   "cell_type": "markdown",
   "id": "a81e5d60",
   "metadata": {},
   "source": [
    "# Python Syntax: Medical Insurance Project - Lesson 6 - Python Loops"
   ]
  },
  {
   "cell_type": "markdown",
   "id": "96292652",
   "metadata": {},
   "source": [
    "First, let’s take a look at the three lists below.\n",
    "\n",
    "* `names` stores the names of seven individuals.\n",
    "* `estimated_insurance_costs` stores the estimated medical insurance costs for the individuals.\n",
    "* `actual_insurance_costs` stores the actual insurance costs paid by the individuals.\n",
    "\n",
    "We want to calculate the average insurance cost each person paid. We’ll start by adding up all of the insurance costs.\n",
    "\n",
    "Create a variable `total_cost` and initialize it to 0.\n",
    "\n",
    "Use a `for` loop to iterate through `actual_insurance_costs` and add each insurance cost to the variable `total_cost`.\n",
    "\n",
    "After the `for` loop, create a variable called `average_cost` that stores the `total_cost` divided by the length of the `actual_insurance_costs` list.\n",
    "\n",
    "Print `average_cost` with the following message:\n",
    "\n",
    "Average Insurance Cost: average_cost dollars."
   ]
  },
  {
   "cell_type": "code",
   "execution_count": 45,
   "id": "d71efe09",
   "metadata": {},
   "outputs": [],
   "source": [
    "names = [\"Judith\", \"Abel\", \"Tyson\", \"Martha\", \"Beverley\", \"David\", \"Anabel\"]\n",
    "estimated_insurance_costs = [1000.0, 2000.0, 3000.0, 4000.0, 5000.0, 6000.0, 7000.0]\n",
    "actual_insurance_costs = [1100.0, 2200.0, 3300.0, 4400.0, 5500.0, 6600.0, 7700.0]"
   ]
  },
  {
   "cell_type": "code",
   "execution_count": 46,
   "id": "a2597d55",
   "metadata": {},
   "outputs": [
    {
     "name": "stdout",
     "output_type": "stream",
     "text": [
      "Average Insurance Cost: 4400.0 dollars.\n"
     ]
    }
   ],
   "source": [
    "total_cost = 0\n",
    "\n",
    "for actual_cost in actual_insurance_costs:\n",
    "    total_cost += actual_cost\n",
    "\n",
    "average_cost = total_cost / len(actual_insurance_costs)\n",
    "\n",
    "print(f'Average Insurance Cost: {average_cost} dollars.')"
   ]
  },
  {
   "cell_type": "markdown",
   "id": "474b304c",
   "metadata": {},
   "source": [
    "For each individual in `names`, we want to determine whether their insurance cost is above or below average.\n",
    "\n",
    "Write a `for` loop with variable `i` that goes from `0` to `len(names)`.\n",
    "\n",
    "Inside of the for loop, do the following:\n",
    "\n",
    "* Create a variable `name`, which stores `names[i]`.\n",
    "* Create a variable `insurance_cost`, which stores `actual_insurance_costs[i]`.\n",
    "* Print out the insurance cost for each individual, with the following message:\n",
    "The insurance cost for {name} is {insurance_cost} dollars.\n",
    "\n",
    "Inside of the `for` loop, use `if`, `elif`, `else` statements after the print statement to check whether the insurance cost is above, below, or equal to the average. Print out messages for each case:\n",
    "\n",
    "When `insurance_cost` is higher than the average, print out the following:\n",
    "The insurance cost for {name} is above average.\n",
    "\n",
    "When `insurance_cost` is lower than the average, print out the following:\n",
    "The insurance cost for {name} is below average.\n",
    "\n",
    "Otherwise, print out the following:\n",
    "The insurance cost for {name} is equal to the average.\n"
   ]
  },
  {
   "cell_type": "code",
   "execution_count": 47,
   "id": "60aed590",
   "metadata": {},
   "outputs": [
    {
     "name": "stdout",
     "output_type": "stream",
     "text": [
      "The insurance cost for Judith is 1100.0 dollars.\n",
      "The insurance cost for Judith is below average.\n",
      "The insurance cost for Abel is 2200.0 dollars.\n",
      "The insurance cost for Abel is below average.\n",
      "The insurance cost for Tyson is 3300.0 dollars.\n",
      "The insurance cost for Tyson is below average.\n",
      "The insurance cost for Martha is 4400.0 dollars.\n",
      "The insurance cost for Martha is equal to the average.\n",
      "The insurance cost for Beverley is 5500.0 dollars.\n",
      "The insurance cost for Beverley is above average.\n",
      "The insurance cost for David is 6600.0 dollars.\n",
      "The insurance cost for David is above average.\n",
      "The insurance cost for Anabel is 7700.0 dollars.\n",
      "The insurance cost for Anabel is above average.\n"
     ]
    }
   ],
   "source": [
    "for i in range(0, len(names)):\n",
    "    name = names[i]\n",
    "    insurance_cost = actual_insurance_costs[i]\n",
    "    print(f'The insurance cost for {name} is {insurance_cost} dollars.')\n",
    "    \n",
    "    if insurance_cost > average_cost:\n",
    "        print(f'The insurance cost for {name} is above average.')\n",
    "    elif insurance_cost < average_cost:\n",
    "        print(f'The insurance cost for {name} is below average.')\n",
    "    else:\n",
    "        print(f'The insurance cost for {name} is equal to the average.')"
   ]
  },
  {
   "cell_type": "markdown",
   "id": "5efb0c12",
   "metadata": {},
   "source": [
    "If you look closely at `actual_insurance_costs` and `estimated_insurance_costs`, you will notice that each of the actual insurance costs are 10% higher than the estimated insurance costs.\n",
    "\n",
    "Using a list comprehension, create a new list called `updated_estimated_costs`, which has each element in `estimated_insurance_costs` multiplied by 11/10.\n",
    "\n",
    "Print `updated_estimated_costs`.\n",
    "\n",
    "You should see that the list now looks the same as `actual_insurance_costs`."
   ]
  },
  {
   "cell_type": "code",
   "execution_count": 48,
   "id": "e464ac3c",
   "metadata": {},
   "outputs": [
    {
     "name": "stdout",
     "output_type": "stream",
     "text": [
      "[1100.0, 2200.0, 3300.0, 4400.0, 5500.0, 6600.0, 7700.0]\n"
     ]
    }
   ],
   "source": [
    "updated_estimated_costs = [estimated_cost * 11/10 for estimated_cost in estimated_insurance_costs]\n",
    "print(updated_estimated_costs)"
   ]
  },
  {
   "cell_type": "markdown",
   "id": "a0f3f232",
   "metadata": {},
   "source": [
    "If you’d like extra practice with Python loops, here are some suggestions to get you started:\n",
    "\n",
    "* Convert the first `for` loop in the code to a `while` loop.\n",
    "* Modify the second `for` loop so that it also calculates how far above or below the average the estimated insurance cost is."
   ]
  },
  {
   "cell_type": "code",
   "execution_count": 52,
   "id": "864a4dc7",
   "metadata": {},
   "outputs": [
    {
     "name": "stdout",
     "output_type": "stream",
     "text": [
      "Average Insurance Cost: 4400.0 dollars.\n"
     ]
    }
   ],
   "source": [
    "total_cost = 0\n",
    "i = 0\n",
    "\n",
    "while i < len(actual_insurance_costs):\n",
    "    total_cost += actual_insurance_costs[i]\n",
    "    i += 1\n",
    "\n",
    "average_cost = total_cost / len(actual_insurance_costs)\n",
    "\n",
    "print(f'Average Insurance Cost: {average_cost} dollars.')"
   ]
  },
  {
   "cell_type": "code",
   "execution_count": 54,
   "id": "83005775",
   "metadata": {},
   "outputs": [
    {
     "name": "stdout",
     "output_type": "stream",
     "text": [
      "The insurance cost for Judith is 1100.0 dollars.\n",
      "The insurance cost for Judith is below average. It is -3300.0 dollars below the average.\n",
      "The insurance cost for Abel is 2200.0 dollars.\n",
      "The insurance cost for Abel is below average. It is -2200.0 dollars below the average.\n",
      "The insurance cost for Tyson is 3300.0 dollars.\n",
      "The insurance cost for Tyson is below average. It is -1100.0 dollars below the average.\n",
      "The insurance cost for Martha is 4400.0 dollars.\n",
      "The insurance cost for Martha is equal to the average.\n",
      "The insurance cost for Beverley is 5500.0 dollars.\n",
      "The insurance cost for Beverley is above average. It is 1100.0 dollars above the average.\n",
      "The insurance cost for David is 6600.0 dollars.\n",
      "The insurance cost for David is above average. It is 2200.0 dollars above the average.\n",
      "The insurance cost for Anabel is 7700.0 dollars.\n",
      "The insurance cost for Anabel is above average. It is 3300.0 dollars above the average.\n"
     ]
    }
   ],
   "source": [
    "for i in range(0, len(names)):\n",
    "    name = names[i]\n",
    "    insurance_cost = actual_insurance_costs[i]\n",
    "    print(f'The insurance cost for {name} is {insurance_cost} dollars.')\n",
    "    \n",
    "    difference = insurance_cost - average_cost\n",
    "    \n",
    "    if insurance_cost > average_cost:\n",
    "        print(f'The insurance cost for {name} is above average. It is {difference} dollars above the average.')\n",
    "    elif insurance_cost < average_cost:\n",
    "        print(f'The insurance cost for {name} is below average. It is {difference} dollars below the average.')\n",
    "    else:\n",
    "        print(f'The insurance cost for {name} is equal to the average.')"
   ]
  },
  {
   "cell_type": "markdown",
   "id": "e3733dbd",
   "metadata": {},
   "source": [
    "# Python Syntax: Medical Insurance Project - Lesson 7 - Python Strings"
   ]
  },
  {
   "cell_type": "markdown",
   "id": "d8766748",
   "metadata": {},
   "source": [
    "First, take a look at the code below.\n",
    "\n",
    "The string `medical_data` stores the medical records for ten individuals. Each record is separated by a `;` and contains the name, age, BMI (body mass index), and insurance cost for an individual, in that order.\n",
    "\n",
    "Print `medical_data` to see the output in the terminal"
   ]
  },
  {
   "cell_type": "code",
   "execution_count": 1,
   "id": "7d153ae9",
   "metadata": {},
   "outputs": [],
   "source": [
    "medical_data = \\\n",
    "\"\"\"Marina Allison   ,27   ,   31.1 , \n",
    "#7010.0   ;Markus Valdez   ,   30, \n",
    "22.4,   #4050.0 ;Connie Ballard ,43 \n",
    ",   25.3 , #12060.0 ;Darnell Weber   \n",
    ",   35   , 20.6   , #7500.0;\n",
    "Sylvie Charles   ,22, 22.1 \n",
    ",#3022.0   ;   Vinay Padilla,24,   \n",
    "26.9 ,#4620.0 ;Meredith Santiago, 51   , \n",
    "29.3 ,#16330.0;   Andre Mccarty, \n",
    "19,22.7 , #2900.0 ; \n",
    "Lorena Hodson ,65, 33.1 , #19370.0; \n",
    "Isaac Vu ,34, 24.8,   #7045.0\"\"\""
   ]
  },
  {
   "cell_type": "code",
   "execution_count": 2,
   "id": "5e7f2a3f",
   "metadata": {},
   "outputs": [
    {
     "name": "stdout",
     "output_type": "stream",
     "text": [
      "Marina Allison   ,27   ,   31.1 , \n",
      "#7010.0   ;Markus Valdez   ,   30, \n",
      "22.4,   #4050.0 ;Connie Ballard ,43 \n",
      ",   25.3 , #12060.0 ;Darnell Weber   \n",
      ",   35   , 20.6   , #7500.0;\n",
      "Sylvie Charles   ,22, 22.1 \n",
      ",#3022.0   ;   Vinay Padilla,24,   \n",
      "26.9 ,#4620.0 ;Meredith Santiago, 51   , \n",
      "29.3 ,#16330.0;   Andre Mccarty, \n",
      "19,22.7 , #2900.0 ; \n",
      "Lorena Hodson ,65, 33.1 , #19370.0; \n",
      "Isaac Vu ,34, 24.8,   #7045.0\n"
     ]
    }
   ],
   "source": [
    "print(medical_data)"
   ]
  },
  {
   "cell_type": "markdown",
   "id": "580d6832",
   "metadata": {},
   "source": [
    "We want the insurance costs to be represented in US dollars.\n",
    "\n",
    "Replace all instances of `#` in `medical_data` with `$`. Store the result in a variable called `updated_medical_data`.\n",
    "\n",
    "Print `updated_medical_data`."
   ]
  },
  {
   "cell_type": "code",
   "execution_count": 4,
   "id": "bfb91ba4",
   "metadata": {},
   "outputs": [
    {
     "name": "stdout",
     "output_type": "stream",
     "text": [
      "Marina Allison   ,27   ,   31.1 , \n",
      "$7010.0   ;Markus Valdez   ,   30, \n",
      "22.4,   $4050.0 ;Connie Ballard ,43 \n",
      ",   25.3 , $12060.0 ;Darnell Weber   \n",
      ",   35   , 20.6   , $7500.0;\n",
      "Sylvie Charles   ,22, 22.1 \n",
      ",$3022.0   ;   Vinay Padilla,24,   \n",
      "26.9 ,$4620.0 ;Meredith Santiago, 51   , \n",
      "29.3 ,$16330.0;   Andre Mccarty, \n",
      "19,22.7 , $2900.0 ; \n",
      "Lorena Hodson ,65, 33.1 , $19370.0; \n",
      "Isaac Vu ,34, 24.8,   $7045.0\n"
     ]
    }
   ],
   "source": [
    "updated_medical_data = medical_data.replace('#', '$')\n",
    "print(updated_medical_data)"
   ]
  },
  {
   "cell_type": "markdown",
   "id": "5e9203af",
   "metadata": {},
   "source": [
    "We want to calculate the number of medical records in our data.\n",
    "\n",
    "Create a variable called `num_records` and initialize it at 0.\n",
    "\n",
    "Next, write a `for` loop to iterate through the `updated_medical_data string`. Inside of the loop, add `1` to `num_records` when the current character is equal to `$`.\n",
    "\n",
    "Outside of the loop, print `num_records` with the following message:\n",
    "\n",
    "There are {num_records} medical records in the data."
   ]
  },
  {
   "cell_type": "code",
   "execution_count": 6,
   "id": "5f3547d3",
   "metadata": {},
   "outputs": [
    {
     "name": "stdout",
     "output_type": "stream",
     "text": [
      "There are 10 medical records in the data.\n"
     ]
    }
   ],
   "source": [
    "num_records = 0\n",
    "for ch in updated_medical_data:\n",
    "    if ch == '$':\n",
    "        num_records += 1\n",
    "print(f'There are {num_records} medical records in the data.')"
   ]
  },
  {
   "cell_type": "markdown",
   "id": "4d779062",
   "metadata": {},
   "source": [
    "The medical data in its current form is difficult to analyze. An essential job for a data scientist is to clean up data so that it’s easy to work with.\n",
    "\n",
    "Let’s start off by splitting the `updated_medical_data` string into a list of each medical record. Remember that each medical record is separated by a `;` in the string.\n",
    "\n",
    "Store the result in a variable called `medical_data_split` and print this variable."
   ]
  },
  {
   "cell_type": "code",
   "execution_count": 8,
   "id": "f3d96348",
   "metadata": {},
   "outputs": [
    {
     "name": "stdout",
     "output_type": "stream",
     "text": [
      "['Marina Allison   ,27   ,   31.1 , \\n$7010.0   ', 'Markus Valdez   ,   30, \\n22.4,   $4050.0 ', 'Connie Ballard ,43 \\n,   25.3 , $12060.0 ', 'Darnell Weber   \\n,   35   , 20.6   , $7500.0', '\\nSylvie Charles   ,22, 22.1 \\n,$3022.0   ', '   Vinay Padilla,24,   \\n26.9 ,$4620.0 ', 'Meredith Santiago, 51   , \\n29.3 ,$16330.0', '   Andre Mccarty, \\n19,22.7 , $2900.0 ', ' \\nLorena Hodson ,65, 33.1 , $19370.0', ' \\nIsaac Vu ,34, 24.8,   $7045.0']\n"
     ]
    }
   ],
   "source": [
    "medical_data_split = updated_medical_data.split(';')\n",
    "print(medical_data_split)"
   ]
  },
  {
   "cell_type": "markdown",
   "id": "7545fd9c",
   "metadata": {},
   "source": [
    "Our data is now stored in a list, but it is still hard to read. Let’s split each medical record into its own list.\n",
    "\n",
    "First, define an empty list called `medical_records`.\n",
    "\n",
    "Next, iterate through `medical_data_split` and for each record, split the string after each comma (,) and append the split string to `medical_records`.\n",
    "\n",
    "Print `medical_records` after the loop."
   ]
  },
  {
   "cell_type": "code",
   "execution_count": 9,
   "id": "2c17f574",
   "metadata": {},
   "outputs": [
    {
     "name": "stdout",
     "output_type": "stream",
     "text": [
      "[['Marina Allison   ', '27   ', '   31.1 ', ' \\n$7010.0   '], ['Markus Valdez   ', '   30', ' \\n22.4', '   $4050.0 '], ['Connie Ballard ', '43 \\n', '   25.3 ', ' $12060.0 '], ['Darnell Weber   \\n', '   35   ', ' 20.6   ', ' $7500.0'], ['\\nSylvie Charles   ', '22', ' 22.1 \\n', '$3022.0   '], ['   Vinay Padilla', '24', '   \\n26.9 ', '$4620.0 '], ['Meredith Santiago', ' 51   ', ' \\n29.3 ', '$16330.0'], ['   Andre Mccarty', ' \\n19', '22.7 ', ' $2900.0 '], [' \\nLorena Hodson ', '65', ' 33.1 ', ' $19370.0'], [' \\nIsaac Vu ', '34', ' 24.8', '   $7045.0']]\n"
     ]
    }
   ],
   "source": [
    "medical_records = []\n",
    "for record in medical_data_split:\n",
    "    medical_records.append(record.split(','))\n",
    "print(medical_records)"
   ]
  },
  {
   "cell_type": "markdown",
   "id": "3f779ffe",
   "metadata": {},
   "source": [
    "Our data is now slightly more readable. However, it is not properly formatted – it contains unnecessary whitespace.\n",
    "\n",
    "To fix this, let’s start by creating an empty list called `medical_records_clean`.\n",
    "\n",
    "Next, use a for loop to iterate through `medical_records`.\n",
    "\n",
    "Inside of the loop, create an empty list called `record_clean`. We’ll use this list to store a formatted version of each medical record.\n",
    "\n",
    "After the `record_clean` variable, create a nested `for` loop that goes through each record:\n",
    "\n",
    "Inside of this loop, append `item.strip()` to `record_clean` to remove any whitespace from the string.\n",
    "\n",
    "Finally, we need to add each cleaned up record to `medical_records_clean`.\n",
    "\n",
    "Outside of the nested for loop, append `record_clean` to `medical_records_clean`.\n",
    "\n",
    "Print `medical_records_clean` outside of the for loops to see the output.\n",
    "\n",
    "You should see output that is formatted and much easier to read."
   ]
  },
  {
   "cell_type": "code",
   "execution_count": 11,
   "id": "5c3da7af",
   "metadata": {},
   "outputs": [
    {
     "name": "stdout",
     "output_type": "stream",
     "text": [
      "[['Marina Allison', '27', '31.1', '$7010.0'], ['Markus Valdez', '30', '22.4', '$4050.0'], ['Connie Ballard', '43', '25.3', '$12060.0'], ['Darnell Weber', '35', '20.6', '$7500.0'], ['Sylvie Charles', '22', '22.1', '$3022.0'], ['Vinay Padilla', '24', '26.9', '$4620.0'], ['Meredith Santiago', '51', '29.3', '$16330.0'], ['Andre Mccarty', '19', '22.7', '$2900.0'], ['Lorena Hodson', '65', '33.1', '$19370.0'], ['Isaac Vu', '34', '24.8', '$7045.0']]\n"
     ]
    }
   ],
   "source": [
    "medical_records_clean = []\n",
    "\n",
    "for record in medical_records:\n",
    "    record_clean = []\n",
    "    for item in record:\n",
    "        record_clean.append(item.strip())\n",
    "    medical_records_clean.append(record_clean)\n",
    "\n",
    "print(medical_records_clean)"
   ]
  },
  {
   "cell_type": "markdown",
   "id": "5924073e",
   "metadata": {},
   "source": [
    "Our data is now clean and ready for analysis.\n",
    "\n",
    "For example, to print out the names of each of the ten individuals, we can use the following loop:\n",
    "\n",
    "<code>for record in medical_records_clean:\n",
    "    print(record[0])<code>\n",
    "\n",
    "You want all of the names in the medical records to be in uppercase characters.\n",
    "\n",
    "In the `for` loop, update `record[0]` before the print statement so that all of the characters are uppercase."
   ]
  },
  {
   "cell_type": "code",
   "execution_count": 12,
   "id": "01fa471f",
   "metadata": {},
   "outputs": [
    {
     "name": "stdout",
     "output_type": "stream",
     "text": [
      "MARINA ALLISON\n",
      "MARKUS VALDEZ\n",
      "CONNIE BALLARD\n",
      "DARNELL WEBER\n",
      "SYLVIE CHARLES\n",
      "VINAY PADILLA\n",
      "MEREDITH SANTIAGO\n",
      "ANDRE MCCARTY\n",
      "LORENA HODSON\n",
      "ISAAC VU\n"
     ]
    }
   ],
   "source": [
    "for record in medical_records_clean:\n",
    "    print(record[0].upper())"
   ]
  },
  {
   "cell_type": "markdown",
   "id": "b2d28d24",
   "metadata": {},
   "source": [
    "Let’s store each name, age, BMI, and insurance cost in separate lists.\n",
    "\n",
    "To start, create four empty lists:\n",
    "\n",
    "* `names`\n",
    "* `ages`\n",
    "* `bmis`\n",
    "* `insurance_costs`\n",
    "\n",
    "Next, iterate through `medical_records_clean` and for each record:\n",
    "\n",
    "* Append the name to `names`.\n",
    "* Append the age to `ages`.\n",
    "* Append the BMI to `bmis`.\n",
    "* Append the insurance cost to `insurance_costs`.\n",
    "\n",
    "Print `names`, `ages`, `bmis`, and `insurance_costs` outside of the loop."
   ]
  },
  {
   "cell_type": "code",
   "execution_count": 15,
   "id": "cab6c3be",
   "metadata": {},
   "outputs": [
    {
     "name": "stdout",
     "output_type": "stream",
     "text": [
      "['Marina Allison', 'Markus Valdez', 'Connie Ballard', 'Darnell Weber', 'Sylvie Charles', 'Vinay Padilla', 'Meredith Santiago', 'Andre Mccarty', 'Lorena Hodson', 'Isaac Vu']\n",
      "['27', '30', '43', '35', '22', '24', '51', '19', '65', '34']\n",
      "['31.1', '22.4', '25.3', '20.6', '22.1', '26.9', '29.3', '22.7', '33.1', '24.8']\n",
      "['$7010.0', '$4050.0', '$12060.0', '$7500.0', '$3022.0', '$4620.0', '$16330.0', '$2900.0', '$19370.0', '$7045.0']\n"
     ]
    }
   ],
   "source": [
    "names = []\n",
    "ages = []\n",
    "bmis = []\n",
    "insurance_costs = []\n",
    "\n",
    "for record in medical_records_clean:\n",
    "    names.append(record[0])\n",
    "    ages.append(record[1])\n",
    "    bmis.append(record[2])\n",
    "    insurance_costs.append(record[3])\n",
    "    \n",
    "print(names)\n",
    "print(ages)\n",
    "print(bmis)\n",
    "print(insurance_costs)"
   ]
  },
  {
   "cell_type": "markdown",
   "id": "a396afeb",
   "metadata": {},
   "source": [
    "Now that all of our data is in separate lists, we can easily perform analysis on that data. Let’s calculate the average BMI in our dataset.\n",
    "\n",
    "First, create a variable called `total_bmi and` set it equal to 0.\n",
    "\n",
    "Next, use a for loop to iterate through bmis and add each bmi to `total_bmi`.\n",
    "\n",
    "After the for loop, create a variable called `average_bmi` that stores the `total_bmi` divided by the length of the bmis list.\n",
    "\n",
    "Print out average_bmi with the following message:\n",
    "\n",
    "Average BMI: {average_bmi}"
   ]
  },
  {
   "cell_type": "code",
   "execution_count": 17,
   "id": "e29e1a59",
   "metadata": {},
   "outputs": [
    {
     "name": "stdout",
     "output_type": "stream",
     "text": [
      "Average BMI: 25.830000000000002\n"
     ]
    }
   ],
   "source": [
    "total_bmi = 0\n",
    "\n",
    "for bmi in bmis:\n",
    "    total_bmi += float(bmi)\n",
    "    \n",
    "average_bmi = total_bmi / len(bmis)\n",
    "\n",
    "print(f'Average BMI: {average_bmi}')"
   ]
  },
  {
   "cell_type": "markdown",
   "id": "5a7bdea8",
   "metadata": {},
   "source": [
    "If you’d like extra practice with Python strings, here are some suggestions to get you started:\n",
    "\n",
    "* Calculate the average insurance cost in `insurance_costs`. You will have to remove the `$` in order to calculate this.\n",
    "* Write a for loop that outputs a string for each individual in the following format:\n",
    "\n",
    "Marina is 27 years old with a BMI of 31.1 and an insurance cost of $7010.0.\n",
    "\n",
    "...\n",
    "..."
   ]
  },
  {
   "cell_type": "code",
   "execution_count": 19,
   "id": "7d986728",
   "metadata": {},
   "outputs": [
    {
     "name": "stdout",
     "output_type": "stream",
     "text": [
      "Average Insurance Cost: 8390.7\n"
     ]
    }
   ],
   "source": [
    "total_insurance_costs = 0\n",
    "\n",
    "for insurance_cost in insurance_costs:\n",
    "    total_insurance_costs += float(insurance_cost.replace('$',''))\n",
    "    \n",
    "average_insurance_cost = total_insurance_costs / len(insurance_costs)\n",
    "\n",
    "print(f'Average Insurance Cost: {average_insurance_cost}')"
   ]
  },
  {
   "cell_type": "code",
   "execution_count": 22,
   "id": "d0f51b78",
   "metadata": {},
   "outputs": [
    {
     "name": "stdout",
     "output_type": "stream",
     "text": [
      "Marina Allison is 27 years old with a BMI of 31.1 and an insurance cost of $7010.0\n",
      "Markus Valdez is 30 years old with a BMI of 22.4 and an insurance cost of $4050.0\n",
      "Connie Ballard is 43 years old with a BMI of 25.3 and an insurance cost of $12060.0\n",
      "Darnell Weber is 35 years old with a BMI of 20.6 and an insurance cost of $7500.0\n",
      "Sylvie Charles is 22 years old with a BMI of 22.1 and an insurance cost of $3022.0\n",
      "Vinay Padilla is 24 years old with a BMI of 26.9 and an insurance cost of $4620.0\n",
      "Meredith Santiago is 51 years old with a BMI of 29.3 and an insurance cost of $16330.0\n",
      "Andre Mccarty is 19 years old with a BMI of 22.7 and an insurance cost of $2900.0\n",
      "Lorena Hodson is 65 years old with a BMI of 33.1 and an insurance cost of $19370.0\n",
      "Isaac Vu is 34 years old with a BMI of 24.8 and an insurance cost of $7045.0\n"
     ]
    }
   ],
   "source": [
    "for record in medical_records_clean:\n",
    "    print('{name} is {age} years old with a BMI of {bmi} and an insurance cost of {insurance_cost}'.format(name = record[0], age = record[1], bmi = record[2], insurance_cost = record[3]))"
   ]
  },
  {
   "cell_type": "markdown",
   "id": "974b9933",
   "metadata": {},
   "source": [
    "# Python Syntax: Medical Insurance Project - Lesson 8 - Python Dictionaries"
   ]
  },
  {
   "cell_type": "markdown",
   "id": "be57cc19",
   "metadata": {},
   "source": [
    "We would like to keep a record of medical patients and their insurance costs.\n",
    "\n",
    "First, create an empty dictionary called `medical_costs`.\n",
    "\n",
    "Let’s populate our medical_costs dictionary by adding the following key-value pairs:\n",
    "\n",
    "* Add `\"Marina\"` to `medical_costs` as a key with a value of `6607.0`.\n",
    "* Add `\"Vinay\"` to `medical_costs` as a key with a value of `3225.0`."
   ]
  },
  {
   "cell_type": "code",
   "execution_count": 2,
   "id": "69fc6c79",
   "metadata": {},
   "outputs": [],
   "source": [
    "medical_costs = {}\n",
    "\n",
    "medical_costs['Marina'] = 6607.0\n",
    "medical_costs['Vinay'] = 3225.0"
   ]
  },
  {
   "cell_type": "markdown",
   "id": "9d102c20",
   "metadata": {},
   "source": [
    "Using one line of code, add the following three patients to the medical_costs dictionary:\n",
    "\n",
    "* `\"Connie\"`, with an insurance cost of `8886.0`\n",
    "* `\"Isaac\"`, with an insurance cost of `16444.0`\n",
    "* `\"Valentina\"`, with an insurance cost of `6420.0`\n",
    "\n",
    "Print `medical_costs`. Make sure the dictionary is what you expected."
   ]
  },
  {
   "cell_type": "code",
   "execution_count": 3,
   "id": "43f5af49",
   "metadata": {},
   "outputs": [
    {
     "name": "stdout",
     "output_type": "stream",
     "text": [
      "{'Marina': 6607.0, 'Vinay': 3225.0, 'Connie': 8886.0, 'Isaac': 16444.0, 'Valentina': 6420.0}\n"
     ]
    }
   ],
   "source": [
    "medical_costs.update({\"Connie\": 8886.0, \"Isaac\": 16444.0, \"Valentina\": 6420.0})\n",
    "print(medical_costs)"
   ]
  },
  {
   "cell_type": "markdown",
   "id": "fe24aa70",
   "metadata": {},
   "source": [
    "You notice that `Vinay`’s insurance cost was incorrectly inputted. Update the value associated with `Vinay` to `3325.0`.\n",
    "\n",
    "Print the updated dictionary."
   ]
  },
  {
   "cell_type": "code",
   "execution_count": 6,
   "id": "70912324",
   "metadata": {},
   "outputs": [
    {
     "name": "stdout",
     "output_type": "stream",
     "text": [
      "{'Marina': 6607.0, 'Vinay': 3325.0, 'Connie': 8886.0, 'Isaac': 16444.0, 'Valentina': 6420.0}\n"
     ]
    }
   ],
   "source": [
    "medical_costs['Vinay'] = 3325.0\n",
    "print(medical_costs)"
   ]
  },
  {
   "cell_type": "markdown",
   "id": "b94891e3",
   "metadata": {},
   "source": [
    "Let’s calculate the average medical cost of each patient. Create a variable called `total_cost` and set it equal to `0`.\n",
    "\n",
    "Next, iterate through the values in `medical_costs` and add each value to the `total_cost` variable.\n",
    "\n",
    "After the loop, create a variable called `average_cost` that stores the `total_cost` divided by the length of the `medical_costs` dictionary.\n",
    "\n",
    "Print `average_cost` with the following message:\n",
    "\n",
    "Average Insurance Cost: {average_cost}"
   ]
  },
  {
   "cell_type": "code",
   "execution_count": 7,
   "id": "9178712e",
   "metadata": {},
   "outputs": [],
   "source": [
    "total_cost = 0\n",
    "\n",
    "for cost in medical_costs.values():\n",
    "    total_cost += cost\n",
    "\n",
    "average_cost = total_cost / len(medical_costs)"
   ]
  },
  {
   "cell_type": "code",
   "execution_count": 8,
   "id": "b937e975",
   "metadata": {},
   "outputs": [
    {
     "name": "stdout",
     "output_type": "stream",
     "text": [
      "Average Insurance Cost: 8336.4\n"
     ]
    }
   ],
   "source": [
    "print(f\"Average Insurance Cost: {average_cost}\")"
   ]
  },
  {
   "cell_type": "markdown",
   "id": "cd7e0056",
   "metadata": {},
   "source": [
    "### List Comprehension to Dictionary\n",
    "You have been asked to create a second dictionary that maps patient names to their ages.\n",
    "\n",
    "First, create two lists called `names` and `ages` with the following data:\n",
    "\n",
    "| names \t| ages  | \n",
    "| --------- | ----- | \n",
    "| Marina\t| 27    | \n",
    "| Vinay\t    | 24    | \n",
    "| Connie\t| 43    | \n",
    "| Isaac\t    | 35    | \n",
    "| Valentina\t| 52    | \n",
    "\n",
    "Next, create a variable called `zipped_ages` that is a zipped list of pairs between the `names` list and the `ages` list."
   ]
  },
  {
   "cell_type": "code",
   "execution_count": 9,
   "id": "4bd2a069",
   "metadata": {},
   "outputs": [],
   "source": [
    "names = ['Marina', 'Vinay', 'Connie', 'Isaac', 'Valentina']\n",
    "ages = [27, 24, 43, 35, 52]\n",
    "\n",
    "zipped_ages = zip(names, ages)"
   ]
  },
  {
   "cell_type": "markdown",
   "id": "2f839edf",
   "metadata": {},
   "source": [
    "Create a dictionary called `names_to_ages` by using a list comprehension that iterates through `zipped_ages` and turns each pair into a key : value item.\n",
    "\n",
    "Print `names_to_ages` to see the result."
   ]
  },
  {
   "cell_type": "code",
   "execution_count": 10,
   "id": "110554a8",
   "metadata": {},
   "outputs": [
    {
     "name": "stdout",
     "output_type": "stream",
     "text": [
      "{'Marina': 27, 'Vinay': 24, 'Connie': 43, 'Isaac': 35, 'Valentina': 52}\n"
     ]
    }
   ],
   "source": [
    "names_to_ages = {name : age for name, age in zipped_ages}\n",
    "print(names_to_ages)"
   ]
  },
  {
   "cell_type": "markdown",
   "id": "5eb84fb0",
   "metadata": {},
   "source": [
    "Use `.get()` to get the value of Marina’s age and store it in a variable called `marina_age`. Use `None` as a default value if the key doesn’t exist.\n",
    "\n",
    "Print `marina_age` with the following message:\n",
    "\n",
    "Marina's age is {marina_age}"
   ]
  },
  {
   "cell_type": "code",
   "execution_count": 11,
   "id": "03ac4efe",
   "metadata": {},
   "outputs": [
    {
     "name": "stdout",
     "output_type": "stream",
     "text": [
      "Marina's age is 27\n"
     ]
    }
   ],
   "source": [
    "marina_age = names_to_ages.get('Marina', None)\n",
    "\n",
    "print(f\"Marina's age is {marina_age}\")"
   ]
  },
  {
   "cell_type": "markdown",
   "id": "ef3fce5a",
   "metadata": {},
   "source": [
    "### Using a Dictionary to create a medical database\n",
    "\n",
    "Let’s create a third dictionary to represent a database of medical records that contains information such as a patient’s name, age, sex, gender, BMI, number of children, smoker status, and insurance cost.\n",
    "\n",
    "First, create an empty dictionary called `medical_records`.\n",
    "\n",
    "Next, add `\"Marina\"` to `medical_records` as a key with the value being a dictionary of medical data:\n",
    "\n",
    "`{\"Age\": 27, \"Sex\": \"Female\", \"BMI\": 31.1, \"Children\": 2, \"Smoker\": \"Non-smoker\", \"Insurance_cost\": 6607.0}`\n",
    "\n",
    "Do the same for the following individuals:\n",
    "\n",
    "| Name\t    | Age\t| Sex\t    | BMI\t| Children\t| Smoker\t    | Insurance Cost | \n",
    "| --------- | ----- | --------- | ----- | --------- | ------------- | -------------- |\n",
    "| Vinay\t    | 24\t| Male\t    | 26.9\t| 0\t        | Non-smoker\t| 3225.0         | \n",
    "| Connie\t| 43\t| Female\t| 25.3\t| 3\t        | Non-smoker\t| 8886.0         | \n",
    "| Isaac\t    | 35\t| Male\t    | 20.6\t| 4\t        | Smoker\t    | 16444.0        | \n",
    "| Valentina\t| 52\t| Female\t| 18.7\t| 1\t        | Non-smoker\t| 6420.0         | "
   ]
  },
  {
   "cell_type": "code",
   "execution_count": 12,
   "id": "88a82324",
   "metadata": {},
   "outputs": [
    {
     "name": "stdout",
     "output_type": "stream",
     "text": [
      "{'Marina': {'Age': 27, 'Sex': 'Female', 'BMI': 31.1, 'Children': 2, 'Smoker': 'Non-smoker', 'Insurance_cost': 6607.0}, 'Vinay': {'Age': 24, 'Sex': 'Male', 'BMI': 26.9, 'Children': 0, 'Smoker': 'Non-smoker', 'Insurance_cost': 3225.0}, 'Connie': {'Age': 43, 'Sex': 'Female', 'BMI': 25.3, 'Children': 3, 'Smoker': 'Non-smoker', 'Insurance_cost': 8886.0}, 'Isaac': {'Age': 35, 'Sex': 'Male', 'BMI': 20.6, 'Children': 4, 'Smoker': 'Smoker', 'Insurance_cost': 16444.0}, 'Valentina': {'Age': 52, 'Sex': 'Female', 'BMI': 18.7, 'Children': 1, 'Smoker': 'Non-smoker', 'Insurance_cost': 6420.0}}\n"
     ]
    }
   ],
   "source": [
    "medical_records = {}\n",
    "\n",
    "medical_records['Marina'] = {\"Age\": 27, \"Sex\": \"Female\", \"BMI\": 31.1, \"Children\": 2, \"Smoker\": \"Non-smoker\", \"Insurance_cost\": 6607.0}\n",
    "\n",
    "new_data = {\n",
    "    \"Vinay\": {\n",
    "        \"Age\": 24,\n",
    "        \"Sex\": \"Male\",\n",
    "        \"BMI\": 26.9,\n",
    "        \"Children\": 0,\n",
    "        \"Smoker\": \"Non-smoker\",\n",
    "        \"Insurance_cost\": 3225.0\n",
    "    },\n",
    "    \"Connie\": {\n",
    "        \"Age\": 43,\n",
    "        \"Sex\": \"Female\",\n",
    "        \"BMI\": 25.3,\n",
    "        \"Children\": 3,\n",
    "        \"Smoker\": \"Non-smoker\",\n",
    "        \"Insurance_cost\": 8886.0\n",
    "    },\n",
    "    \"Isaac\": {\n",
    "        \"Age\": 35,\n",
    "        \"Sex\": \"Male\",\n",
    "        \"BMI\": 20.6,\n",
    "        \"Children\": 4,\n",
    "        \"Smoker\": \"Smoker\",\n",
    "        \"Insurance_cost\": 16444.0\n",
    "    },\n",
    "    \"Valentina\": {\n",
    "        \"Age\": 52,\n",
    "        \"Sex\": \"Female\",\n",
    "        \"BMI\": 18.7,\n",
    "        \"Children\": 1,\n",
    "        \"Smoker\": \"Non-smoker\",\n",
    "        \"Insurance_cost\": 6420.0\n",
    "    }\n",
    "}\n",
    "\n",
    "# Update the medical_records dictionary with the new data\n",
    "medical_records.update(new_data)\n",
    "\n",
    "print(medical_records)"
   ]
  },
  {
   "cell_type": "markdown",
   "id": "0611d45b",
   "metadata": {},
   "source": [
    "The `medical_records` dictionary acts like a database of medical records. Let’s access a specific piece of data in `medical_records`.\n",
    "\n",
    "Print out Connie’s insurance cost with the following message:\n",
    "\n",
    "Connie's insurance cost is X dollars."
   ]
  },
  {
   "cell_type": "code",
   "execution_count": 15,
   "id": "e216f4bd",
   "metadata": {},
   "outputs": [
    {
     "name": "stdout",
     "output_type": "stream",
     "text": [
      "Connie's insurance cost is 8886.0 dollars.\n"
     ]
    }
   ],
   "source": [
    "connie_insurance_cost = medical_records[\"Connie\"][\"Insurance_cost\"]\n",
    "print(f\"Connie's insurance cost is {connie_insurance_cost} dollars.\")"
   ]
  },
  {
   "cell_type": "markdown",
   "id": "1a25d481",
   "metadata": {},
   "source": [
    "Vinay has moved to a new country and we no longer want to include him in our medical records.\n",
    "\n",
    "Remove `Vinay` from `medical_records`."
   ]
  },
  {
   "cell_type": "code",
   "execution_count": 16,
   "id": "c5c94adb",
   "metadata": {},
   "outputs": [
    {
     "name": "stdout",
     "output_type": "stream",
     "text": [
      "{'Marina': {'Age': 27, 'Sex': 'Female', 'BMI': 31.1, 'Children': 2, 'Smoker': 'Non-smoker', 'Insurance_cost': 6607.0}, 'Connie': {'Age': 43, 'Sex': 'Female', 'BMI': 25.3, 'Children': 3, 'Smoker': 'Non-smoker', 'Insurance_cost': 8886.0}, 'Isaac': {'Age': 35, 'Sex': 'Male', 'BMI': 20.6, 'Children': 4, 'Smoker': 'Smoker', 'Insurance_cost': 16444.0}, 'Valentina': {'Age': 52, 'Sex': 'Female', 'BMI': 18.7, 'Children': 1, 'Smoker': 'Non-smoker', 'Insurance_cost': 6420.0}}\n"
     ]
    }
   ],
   "source": [
    "medical_records.pop('Vinay')\n",
    "print(medical_records)"
   ]
  },
  {
   "cell_type": "markdown",
   "id": "6eee3125",
   "metadata": {},
   "source": [
    "Let’s take a closer look at each patient’s medical record.\n",
    "\n",
    "Use a `for` loop to iterate through the items of `medical_records`. For each key-value pair, print out a string that looks like the following:\n",
    "\n",
    "{Name} is a {Age} year old {Sex} {Smoker} with a BMI of {BMI} and insurance cost of {Insurance_cost}"
   ]
  },
  {
   "cell_type": "code",
   "execution_count": 19,
   "id": "1994b000",
   "metadata": {},
   "outputs": [
    {
     "name": "stdout",
     "output_type": "stream",
     "text": [
      "Marina is a 27 year old Female Non-smoker with a BMI of 31.1 and insurance cost of 6607.0\n",
      "Connie is a 43 year old Female Non-smoker with a BMI of 25.3 and insurance cost of 8886.0\n",
      "Isaac is a 35 year old Male Smoker with a BMI of 20.6 and insurance cost of 16444.0\n",
      "Valentina is a 52 year old Female Non-smoker with a BMI of 18.7 and insurance cost of 6420.0\n"
     ]
    }
   ],
   "source": [
    "name = ''\n",
    "age = 0\n",
    "sex = ''\n",
    "smoker = ''\n",
    "bmi = 0.0 \n",
    "insurance_cost = 0.0\n",
    "\n",
    "for name, data in medical_records.items():\n",
    "    name = name\n",
    "    age = data[\"Age\"]\n",
    "    sex = data[\"Sex\"]\n",
    "    smoker = data[\"Smoker\"]\n",
    "    bmi = data[\"BMI\"]\n",
    "    insurance_cost = data[\"Insurance_cost\"]\n",
    "        \n",
    "    print(f\"{name} is a {age} year old {sex} {smoker} with a BMI of {bmi} and insurance cost of {insurance_cost}\")\n",
    "    "
   ]
  },
  {
   "cell_type": "markdown",
   "id": "bf256d35",
   "metadata": {},
   "source": [
    "If you’d like extra practice with dictionaries, here are some suggestions to go further with this project:\n",
    "\n",
    "Create a function called `update_medical_records()` that takes in the name of an individual as well as their medical data, and then updates the `medical_records` dictionary accordingly.\n"
   ]
  },
  {
   "cell_type": "code",
   "execution_count": 20,
   "id": "b2a8870b",
   "metadata": {},
   "outputs": [
    {
     "name": "stdout",
     "output_type": "stream",
     "text": [
      "{'Marina': {'Age': 27, 'Sex': 'Female', 'BMI': 31.1, 'Children': 2, 'Smoker': 'Non-smoker', 'Insurance_cost': 6607.0}, 'Connie': {'Age': 43, 'Sex': 'Female', 'BMI': 25.3, 'Children': 3, 'Smoker': 'Non-smoker', 'Insurance_cost': 8886.0}, 'Isaac': {'Age': 35, 'Sex': 'Male', 'BMI': 20.6, 'Children': 4, 'Smoker': 'Smoker', 'Insurance_cost': 16444.0}, 'Valentina': {'Age': 52, 'Sex': 'Female', 'BMI': 18.7, 'Children': 1, 'Smoker': 'Non-smoker', 'Insurance_cost': 6420.0}, 'Alex': {'Age': 35, 'Sex': 'Male', 'BMI': 20.6, 'Children': 0, 'Smoker': 'Smoker', 'Insurance_cost': 10444.0}}\n"
     ]
    }
   ],
   "source": [
    "def update_medical_records(name, medical_data):\n",
    "    medical_records.update({name : medical_data})\n",
    "\n",
    "name = \"Alex\"\n",
    "medical_data = {\n",
    "    'Age': 35, \n",
    "    'Sex': 'Male', \n",
    "    'BMI': 20.6, \n",
    "    'Children': 0, \n",
    "    'Smoker': 'Smoker', \n",
    "    'Insurance_cost': 10444.0}\n",
    "\n",
    "update_medical_records(\"Alex\", medical_data)\n",
    "print(medical_records)"
   ]
  }
 ],
 "metadata": {
  "kernelspec": {
   "display_name": "Python 3 (ipykernel)",
   "language": "python",
   "name": "python3"
  },
  "language_info": {
   "codemirror_mode": {
    "name": "ipython",
    "version": 3
   },
   "file_extension": ".py",
   "mimetype": "text/x-python",
   "name": "python",
   "nbconvert_exporter": "python",
   "pygments_lexer": "ipython3",
   "version": "3.11.4"
  }
 },
 "nbformat": 4,
 "nbformat_minor": 5
}
