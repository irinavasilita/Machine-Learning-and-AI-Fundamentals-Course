{
 "cells": [
  {
   "cell_type": "markdown",
   "metadata": {},
   "source": [
    "# This is Jeopardy!"
   ]
  },
  {
   "cell_type": "markdown",
   "metadata": {},
   "source": [
    "#### Project Goals"
   ]
  },
  {
   "cell_type": "markdown",
   "metadata": {},
   "source": [
    "You will work to write several functions that investigate a dataset of _Jeopardy!_ questions and answers. Filter the dataset for topics that you're interested in, compute the average difficulty of those questions, and train to become the next Jeopardy champion!"
   ]
  },
  {
   "cell_type": "markdown",
   "metadata": {},
   "source": [
    "## Project Requirements"
   ]
  },
  {
   "cell_type": "markdown",
   "metadata": {},
   "source": [
    "1. We've provided a csv file containing data about the game show _Jeopardy!_ in a file named `jeopardy.csv`. Load the data into a DataFrame and investigate its contents. Try to print out specific columns.\n",
    "\n",
    "   Note that in order to make this project as \"real-world\" as possible, we haven't modified the data at all - we're giving it to you exactly how we found it. As a result, this data isn't as \"clean\". More specifically, there's something odd about the column names. After you figure out the problem with the column names, you may want to rename them to make your life easier for the rest of the project.\n",
    "   \n",
    "   In order to display the full contents of a column, we've added this line of code for you:\n",
    "   \n",
    "   ```py\n",
    "   pd.set_option('display.max_colwidth', None)\n",
    "   ```"
   ]
  },
  {
   "cell_type": "code",
   "execution_count": 50,
   "metadata": {},
   "outputs": [
    {
     "name": "stdout",
     "output_type": "stream",
     "text": [
      "   Show Number    Air Date      Round                         Category  Value  \\\n",
      "0         4680  2004-12-31  Jeopardy!                          HISTORY   $200   \n",
      "1         4680  2004-12-31  Jeopardy!  ESPN's TOP 10 ALL-TIME ATHLETES   $200   \n",
      "2         4680  2004-12-31  Jeopardy!      EVERYBODY TALKS ABOUT IT...   $200   \n",
      "3         4680  2004-12-31  Jeopardy!                 THE COMPANY LINE   $200   \n",
      "4         4680  2004-12-31  Jeopardy!              EPITAPHS & TRIBUTES   $200   \n",
      "5         4680  2004-12-31  Jeopardy!                   3-LETTER WORDS   $200   \n",
      "6         4680  2004-12-31  Jeopardy!                          HISTORY   $400   \n",
      "7         4680  2004-12-31  Jeopardy!  ESPN's TOP 10 ALL-TIME ATHLETES   $400   \n",
      "8         4680  2004-12-31  Jeopardy!      EVERYBODY TALKS ABOUT IT...   $400   \n",
      "9         4680  2004-12-31  Jeopardy!                 THE COMPANY LINE   $400   \n",
      "\n",
      "                                                                                                        Question  \\\n",
      "0               For the last 8 years of his life, Galileo was under house arrest for espousing this man's theory   \n",
      "1    No. 2: 1912 Olympian; football star at Carlisle Indian School; 6 MLB seasons with the Reds, Giants & Braves   \n",
      "2                       The city of Yuma in this state has a record average of 4,055 hours of sunshine each year   \n",
      "3                           In 1963, live on \"The Art Linkletter Show\", this company served its billionth burger   \n",
      "4       Signer of the Dec. of Indep., framer of the Constitution of Mass., second President of the United States   \n",
      "5                                  In the title of an Aesop fable, this insect shared billing with a grasshopper   \n",
      "6                                   Built in 312 B.C. to link Rome & the South of Italy, it's still in use today   \n",
      "7                                         No. 8: 30 steals for the Birmingham Barons; 2,306 steals for the Bulls   \n",
      "8  In the winter of 1971-72, a record 1,122 inches of snow fell at Rainier Paradise Ranger Station in this state   \n",
      "9             This housewares store was named for the packaging its merchandise came in & was first displayed on   \n",
      "\n",
      "           Answer  \n",
      "0      Copernicus  \n",
      "1      Jim Thorpe  \n",
      "2         Arizona  \n",
      "3      McDonald's  \n",
      "4      John Adams  \n",
      "5         the ant  \n",
      "6  the Appian Way  \n",
      "7  Michael Jordan  \n",
      "8      Washington  \n",
      "9  Crate & Barrel  \n"
     ]
    }
   ],
   "source": [
    "import pandas as pd\n",
    "pd.set_option('display.max_colwidth', None)\n",
    "\n",
    "jeopardy_data = pd.read_csv('jeopardy.csv')\n",
    "print(jeopardy_data.head(10))"
   ]
  },
  {
   "cell_type": "code",
   "execution_count": 51,
   "metadata": {},
   "outputs": [
    {
     "name": "stdout",
     "output_type": "stream",
     "text": [
      "Index(['Show Number', ' Air Date', ' Round', ' Category', ' Value',\n",
      "       ' Question', ' Answer'],\n",
      "      dtype='object')\n"
     ]
    }
   ],
   "source": [
    "print(jeopardy_data.columns)"
   ]
  },
  {
   "cell_type": "code",
   "execution_count": 52,
   "metadata": {},
   "outputs": [
    {
     "name": "stdout",
     "output_type": "stream",
     "text": [
      "   show_number    air_date      round                         category value  \\\n",
      "0         4680  2004-12-31  Jeopardy!                          HISTORY  $200   \n",
      "1         4680  2004-12-31  Jeopardy!  ESPN's TOP 10 ALL-TIME ATHLETES  $200   \n",
      "2         4680  2004-12-31  Jeopardy!      EVERYBODY TALKS ABOUT IT...  $200   \n",
      "3         4680  2004-12-31  Jeopardy!                 THE COMPANY LINE  $200   \n",
      "4         4680  2004-12-31  Jeopardy!              EPITAPHS & TRIBUTES  $200   \n",
      "5         4680  2004-12-31  Jeopardy!                   3-LETTER WORDS  $200   \n",
      "6         4680  2004-12-31  Jeopardy!                          HISTORY  $400   \n",
      "7         4680  2004-12-31  Jeopardy!  ESPN's TOP 10 ALL-TIME ATHLETES  $400   \n",
      "8         4680  2004-12-31  Jeopardy!      EVERYBODY TALKS ABOUT IT...  $400   \n",
      "9         4680  2004-12-31  Jeopardy!                 THE COMPANY LINE  $400   \n",
      "\n",
      "                                                                                                        question  \\\n",
      "0               For the last 8 years of his life, Galileo was under house arrest for espousing this man's theory   \n",
      "1    No. 2: 1912 Olympian; football star at Carlisle Indian School; 6 MLB seasons with the Reds, Giants & Braves   \n",
      "2                       The city of Yuma in this state has a record average of 4,055 hours of sunshine each year   \n",
      "3                           In 1963, live on \"The Art Linkletter Show\", this company served its billionth burger   \n",
      "4       Signer of the Dec. of Indep., framer of the Constitution of Mass., second President of the United States   \n",
      "5                                  In the title of an Aesop fable, this insect shared billing with a grasshopper   \n",
      "6                                   Built in 312 B.C. to link Rome & the South of Italy, it's still in use today   \n",
      "7                                         No. 8: 30 steals for the Birmingham Barons; 2,306 steals for the Bulls   \n",
      "8  In the winter of 1971-72, a record 1,122 inches of snow fell at Rainier Paradise Ranger Station in this state   \n",
      "9             This housewares store was named for the packaging its merchandise came in & was first displayed on   \n",
      "\n",
      "           answer  \n",
      "0      Copernicus  \n",
      "1      Jim Thorpe  \n",
      "2         Arizona  \n",
      "3      McDonald's  \n",
      "4      John Adams  \n",
      "5         the ant  \n",
      "6  the Appian Way  \n",
      "7  Michael Jordan  \n",
      "8      Washington  \n",
      "9  Crate & Barrel  \n"
     ]
    }
   ],
   "source": [
    "jeopardy_data.rename(columns = {\n",
    "    'Show Number': 'show_number', \n",
    "    ' Air Date': 'air_date', \n",
    "    ' Round': 'round',\n",
    "    ' Category' : 'category',\n",
    "    ' Value': 'value',\n",
    "    ' Question': 'question',\n",
    "    ' Answer': 'answer'\n",
    "}, inplace = True)\n",
    "\n",
    "print(jeopardy_data.head(10))"
   ]
  },
  {
   "cell_type": "markdown",
   "metadata": {},
   "source": [
    "2. Write a function that filters the dataset for questions that contains all of the words in a list of words. For example, when the list `[\"King\", \"England\"]` was passed to our function, the function returned a DataFrame of 49 rows. Every row had the strings `\"King\"` and `\"England\"` somewhere in its `\" Question\"`.\n",
    "\n",
    "   Test your function by printing out the column containing the question of each row of the dataset."
   ]
  },
  {
   "cell_type": "code",
   "execution_count": 58,
   "metadata": {},
   "outputs": [
    {
     "name": "stdout",
     "output_type": "stream",
     "text": [
      "4953                                                                                                                                                                                                                                                                      Both England's King George V & FDR put their stamp of approval on this \"King of Hobbies\"\n",
      "14912                                                                                                                                                                                                                                                            This country's King Louis IV was nicknamed \"Louis From Overseas\" because he was raised in England\n",
      "21511                                                                                                                                                                                                                                                                                 this man and his son ruled England following the execution of King Charles I\n",
      "23810                                                                                                                                                                                                                                                         William the Conqueror was crowned King of England in Westminster Abbey on Christmas Day in this year\n",
      "27555                                                                                                                                                                                                                                                                           This member of the Medici family was the mother-in-law of England's King Charles I\n",
      "33294                 (Sarah of the Clue Crew delivers the clue from the Bayeux Cathedral in France.)  Despite taking an oath to assure another succession, Harold is crowned King of England; the tapestry indicated it was <a href=\"http://www.j-archive.com/media/2008-12-18_J_08.jpg\" target=\"_blank\">Stigant</a>, this archbishop, who performed the ceremony\n",
      "41148                                                                                                                                                                                                                                    This French king recognized William of Orange as William II, King of England, under the terms of 1697's Treaty of Ryswick\n",
      "41357                                                                                                                                                                                                                                                     England's King Henry VIII had 3 wives named Catherine:  Catherine Howard, Catherine of Aragon & this one\n",
      "43122                                                                                                                                                                                                                                                                                                                       The father of England's King Edward VI\n",
      "47814                                                                                                                                                                                                                                                                                                   This steak sauce was created for King George IV of England\n",
      "49994                                                                                                                                                                                                                                                                       Elizabeth I's half-brother, he reigned before her as King of England from 1547 to 1553\n",
      "51115                                                                                                                  (<a href=\"http://www.j-archive.com/media/2000-03-02_J_22.jpg\" target=\"_blank\">Alex Trebek reads from England.</a>)  In 1214 barons fed up with King John met at the abbey whose ruins we see here; the result a year later was this charter\n",
      "51565                                                                                                                                                                                                                                                 He wrote several anthems, including \"The King Shall Rejoice\", for the coronation of England's King George II\n",
      "56600                                                                                                                                                                                                                                                              This city known for its 24-hour auto race was the birthplace of England's King Henry II in 1133\n",
      "57516                                                                                                                                                                                                                                                                                         Famous (& rather insulting) adjective for England's King Ethelred II\n",
      "58949                                                                                                                                                                                                                                                                        He became King of England in 1399 after forcing his cousin Richard II from the throne\n",
      "71808                                                                                                                                                                                                                                                                                      Number of the William who was England's \"Sailor King\" from 1830 to 1837\n",
      "74235                                                                                                                                                                                                                                                                     Barons & churchmen drew up this 1215 document to reduce the power of England's King John\n",
      "77195                                                                                                                                                                                                                                                          He became King of England on June 26, 1483; just over 2 years later he was killed at Bosworth Field\n",
      "79457                                                                                                                                                                                                                                              On Christmas Day 1066, he was crowned King of England, 72 days after defeating Harold at the Battle of Hastings\n",
      "80113                                                                                                                                                                                                                                                                                                England's King Charles II was known by this \"jovial\" nickname\n",
      "84639                                                                                                                                                                                                                                                                            He went from second banana on \"Roseanne\" to top banana of England in \"King Ralph\"\n",
      "86412                                                                                                                                                                                                                                                                         This country's King Olaf V was born in England & was the grandson of King Edward VII\n",
      "89710                                                                                                                                                                                                                                                            This 11th Century King of England also ruled Denmark & Norway during the latter part of his reign\n",
      "111926                                                                                                                                                                                                                                                   It begins \"John, by the grace of God, King of England, Lord of Ireland, Duke of Normandy & Aquitaine....\"\n",
      "118809                                                                                                                                                                                                                                                                                            In French this King of England is called Guillaume le Conquerant\n",
      "123299                                                                                                                                                                                                                                                                     If you want to be crowned King of England, this rock has to be in your coronation chair\n",
      "123671                                                                                                                                                                                                                                                                                                                              King Henry VII of England dies\n",
      "125822                                                                                                                                                                                                                                                                                              Famous nickname of the eldest son of England's King Edward III\n",
      "127484                                                                                                                                                                                                                                                                Ethelred the Unready managed to lose most of England to King Sweyn Forkbeard of this country\n",
      "127758                                                                                                                                                                                                                                                                                  This state was named for the King of England who reigned from 1727 to 1760\n",
      "129106                                                                                                                                                                                                                                                              King Edward I of England, who fought William Wallace, had this nickname relating to his height\n",
      "130208                                                                                                                                                                                                                                                                                    This \"Sun King\" sniffed, \"England is a little garden full of sour weeds\"\n",
      "137818                                                                                                                                                                                                                                                                                        The last King William to rule England had this number after his name\n",
      "143434                                                                                                                                                                                                                                                                This Flemish artist painted a unique triple portrait of England's King Charles I around 1637\n",
      "150880                                                                                                                                                                                                                                                                                       During Stanley Baldwin's term as P.M., this King of England abdicated\n",
      "165110                                                                                                                                                                                                                                                        The 1st commoner to rule England, he became lord protector following the overthrow of King Charles I\n",
      "165197                                                                                                                                                                                                                                                       The \"Angel of Hadley\" is said to have saved a New England town during the war with this Indian \"King\"\n",
      "170007                                                                                                                                                                                                                                                                In the 1697 Treaty of Rijswijk, the French recognized this Dutch-born man as King of England\n",
      "174055                                                                                                                                                                                                                                                                                            This conqueror was crowned King of England on Christmas Day 1066\n",
      "175259                                                                                                                                                                                                                                                                                                          His short reign as King of England fell in in 1936\n",
      "183462                                                                                                                                                                                                                                                            A capital in the West Indies is named for this family name of William of Orange, King of England\n",
      "186239                                                                                                                                                                                                                                           He was King of England from 1189 to 1199 but spent only 6 months there; the rest of the time, he was off fighting\n",
      "187651                                                                                                                                                                                                                                                                     This Bahamian capital took its name from the family name of King William III of England\n",
      "191579                                                                                                                                                                                                                                                                             England's King Harold II lost the all-important Battle of Hastings in this year\n",
      "192265    (<a href=\"http://www.j-archive.com/media/2012-01-17_DJ_25.jpg\" target=\"_blank\">Sarah of the Clue Crew stands in front of the Royal Palace in Oslo, Norway.</a>) King Harald V lives here, in Norway's Royal Palace. He and his second cousin, England's Queen Elizabeth, are both great-grandchildren of this British king, who ruled from 1901 to 1910.\n",
      "192966                                                                                                                                                                                                                                                                                                                          England's King _____ _____ R. Luce\n",
      "194516                                                                                                                                                                                                                                                            The \"Monty Python\" member who played King Arthur, he ended his grail quest in Maidstone, England\n",
      "200369                                                                                                                                                                                                                                             8th C. King Offa built a 170-mile north-south dike that still partly marks the border of England & this country\n",
      "Name: question, dtype: object\n"
     ]
    }
   ],
   "source": [
    "# Filtering a dataset by a list of words\n",
    "def filter_data(data, words):\n",
    "    # Returns true if all of the words in the list appear in the question.\n",
    "    filter = lambda x: all(word in x for word in words)\n",
    "    # Applies the lambda function to the Question column \n",
    "    # and returns the rows where the function returned True\n",
    "    return data.loc[data.question.apply(filter)]\n",
    "\n",
    "# Testing the function\n",
    "filtered = filter_data(jeopardy_data, ['King', 'England'])\n",
    "print(filtered.question)"
   ]
  },
  {
   "cell_type": "markdown",
   "metadata": {},
   "source": [
    "3. Test your original function with a few different sets of words to try to find some ways your function breaks. Edit your function so it is more robust.\n",
    "\n",
    "   For example, think about capitalization. We probably want to find questions that contain the word `\"King\"` or `\"king\"`.\n",
    "   \n",
    "   You may also want to check to make sure you don't find rows that contain substrings of your given words. For example, our function found a question that didn't contain the word `\"king\"`, however it did contain the word `\"viking\"` &mdash; it found the `\"king\"` inside `\"viking\"`. Note that this also comes with some drawbacks &mdash; you would no longer find questions that contained words like `\"England's\"`."
   ]
  },
  {
   "cell_type": "code",
   "execution_count": 60,
   "metadata": {},
   "outputs": [
    {
     "name": "stdout",
     "output_type": "stream",
     "text": [
      "6337                           In retaliation for Viking raids, this \"Unready\" king of England attacks Norse areas of the Isle of Man\n",
      "9191                                         This king of England beat the odds to trounce the French in the 1415 Battle of Agincourt\n",
      "13454                                                            It's the number that followed the last king of England named William\n",
      "18076                                 In 1199 this crusader king of England was mortally wounded while besieging the castle of Chalus\n",
      "19168                                                       He was the only king of England to have \"The Great\" tacked on to his name\n",
      "21511                                                    this man and his son ruled England following the execution of King Charles I\n",
      "23810                            William the Conqueror was crowned King of England in Westminster Abbey on Christmas Day in this year\n",
      "23979                                  This \"unready\" king of England lost most of his country to Sven Forkbeard, the king of Denmark\n",
      "26780                                                     This king of England was killed by a Norman arrow at the Battle of Hastings\n",
      "33174                                                                          This king of England was a leader of the Third Crusade\n",
      "49994                                          Elizabeth I's half-brother, he reigned before her as King of England from 1547 to 1553\n",
      "57479                                                               He was the last of the 3 men who were king of England during 1066\n",
      "58949                                           He became King of England in 1399 after forcing his cousin Richard II from the throne\n",
      "66520                                  This king called \"the Great\" beat the Danes in 886 to keep all of England from being conquered\n",
      "72582                                     This current king of Jordan received part of his education in England at Harrow & Sandhurst\n",
      "77195                             He became King of England on June 26, 1483; just over 2 years later he was killed at Bosworth Field\n",
      "78510                             Henry II, who succeeded Stephen as king of England in 1154, was the first monarch from this \"house\"\n",
      "82525                                                    The \"rump\" parliament wanted him to be the last king England would ever name\n",
      "86412                                            This country's King Olaf V was born in England & was the grandson of King Edward VII\n",
      "89710                               This 11th Century King of England also ruled Denmark & Norway during the latter part of his reign\n",
      "90084                                                                      He was \"the Confessor\" king of England in the 11th century\n",
      "94425                                                                           From 1714 to 1830 every king of England had this name\n",
      "95019                               Regent for his predecessor from 1811 to 1820, he was king of England on his own from 1820 to 1830\n",
      "103704                                                                        This king of England was the grandfather of Elizabeth I\n",
      "115727                                                           In 1191, Berengaria married this king of England in Limassol, Cyprus\n",
      "118809                                                               In French this King of England is called Guillaume le Conquerant\n",
      "127484                                   Ethelred the Unready managed to lose most of England to King Sweyn Forkbeard of this country\n",
      "127758                                                     This state was named for the King of England who reigned from 1727 to 1760\n",
      "137818                                                           The last King William to rule England had this number after his name\n",
      "140080                                         In 1191 this \"Lion-Hearted\" king of England captured Cyprus & Acre during the Crusades\n",
      "140941              Dutch-born Protestant Prince William of Orange became king of England after this Catholic king was deposed & fled\n",
      "148910                     On his way back from failing to take Jerusalem in 1192, this king of England was captured & later ransomed\n",
      "150622                                                      The only king of England named Stephen was the grandson of this conqueror\n",
      "150880                                                          During Stanley Baldwin's term as P.M., this King of England abdicated\n",
      "151335                                   2000 saw a fight in England over running the lottery, with this Virgin king at the forefeont\n",
      "151746                                             Colchester, England was named for this legendary Celtic king immortalized in rhyme\n",
      "158120                  This Dutch-born English king introduced gin to England as the \"pouring spirit\" in the palace at Hampton Court\n",
      "159374                                                        A translation of the Bible is named for this king of England & Scotland\n",
      "159378                This king divorced the Church of England from the Catholic Church so that he could divorce the first of 6 wives\n",
      "167337                                                                 The last Anglo-Saxon king of England was killed in this battle\n",
      "174055                                                               This conqueror was crowned King of England on Christmas Day 1066\n",
      "175259                                                                             His short reign as King of England fell in in 1936\n",
      "178590                                       He succeeded Henry II as king of England in 1189 & was himself succeeded by John in 1199\n",
      "178921                                                                   Richard was crowned king of England at this place of worship\n",
      "186239              He was King of England from 1189 to 1199 but spent only 6 months there; the rest of the time, he was off fighting\n",
      "190102                                                  The man who became king of England in 1066 was succeeded by this king in 1087\n",
      "191531    On Jan. 28, 1547, after a physical & mental decline, this king of England was (surprisingly) survived by his wife Catherine\n",
      "195099                                In 1714 the Prince of Hanover, who spoke little English, became king of England under this name\n",
      "200369                8th C. King Offa built a 170-mile north-south dike that still partly marks the border of England & this country\n",
      "208742                                           Dutch-born king who ruled England jointly with Mary II & is a tasty New Zealand fish\n",
      "216021                               His nickname was \"Bertie\", but he used this name & number when he became king of England in 1901\n",
      "Name: question, dtype: object\n",
      "51\n"
     ]
    }
   ],
   "source": [
    "# Filtering a dataset by a list of words\n",
    "def filter_data(data, words):\n",
    "    # Lowercases all words in the list of words as well as the questions. \n",
    "    # Returns true if all of the words in the list appear in the question.\n",
    "    filter = lambda x: all(word.lower() in x.lower() for word in words)\n",
    "    # Applies the lambda function to the Question column \n",
    "    # and returns the rows where the function returned True\n",
    "    return data.loc[data.question.apply(filter)]\n",
    "\n",
    "# Testing the function\n",
    "filtered = filter_data(jeopardy_data, [' King ', ' England '])\n",
    "print(filtered.question)\n",
    "print(len(filtered))"
   ]
  },
  {
   "cell_type": "markdown",
   "metadata": {},
   "source": [
    "4. We may want to eventually compute aggregate statistics, like `.mean()` on the `\" Value\"` column. But right now, the values in that column are strings. Convert the`\" Value\"` column to floats. If you'd like to, you can create a new column with float values.\n",
    "\n",
    "   Now that you can filter the dataset of question, use your new column that contains the float values of each question to find the \"difficulty\" of certain topics. For example, what is the average value of questions that contain the word `\"King\"`?\n",
    "   \n",
    "   Make sure to use the dataset that contains the float values as the dataset you use in your filtering function."
   ]
  },
  {
   "cell_type": "code",
   "execution_count": 69,
   "metadata": {},
   "outputs": [
    {
     "name": "stdout",
     "output_type": "stream",
     "text": [
      "   show_number    air_date      round                         category value  \\\n",
      "0         4680  2004-12-31  Jeopardy!                          HISTORY  $200   \n",
      "1         4680  2004-12-31  Jeopardy!  ESPN's TOP 10 ALL-TIME ATHLETES  $200   \n",
      "2         4680  2004-12-31  Jeopardy!      EVERYBODY TALKS ABOUT IT...  $200   \n",
      "3         4680  2004-12-31  Jeopardy!                 THE COMPANY LINE  $200   \n",
      "4         4680  2004-12-31  Jeopardy!              EPITAPHS & TRIBUTES  $200   \n",
      "5         4680  2004-12-31  Jeopardy!                   3-LETTER WORDS  $200   \n",
      "6         4680  2004-12-31  Jeopardy!                          HISTORY  $400   \n",
      "7         4680  2004-12-31  Jeopardy!  ESPN's TOP 10 ALL-TIME ATHLETES  $400   \n",
      "8         4680  2004-12-31  Jeopardy!      EVERYBODY TALKS ABOUT IT...  $400   \n",
      "9         4680  2004-12-31  Jeopardy!                 THE COMPANY LINE  $400   \n",
      "\n",
      "                                                                                                        question  \\\n",
      "0               For the last 8 years of his life, Galileo was under house arrest for espousing this man's theory   \n",
      "1    No. 2: 1912 Olympian; football star at Carlisle Indian School; 6 MLB seasons with the Reds, Giants & Braves   \n",
      "2                       The city of Yuma in this state has a record average of 4,055 hours of sunshine each year   \n",
      "3                           In 1963, live on \"The Art Linkletter Show\", this company served its billionth burger   \n",
      "4       Signer of the Dec. of Indep., framer of the Constitution of Mass., second President of the United States   \n",
      "5                                  In the title of an Aesop fable, this insect shared billing with a grasshopper   \n",
      "6                                   Built in 312 B.C. to link Rome & the South of Italy, it's still in use today   \n",
      "7                                         No. 8: 30 steals for the Birmingham Barons; 2,306 steals for the Bulls   \n",
      "8  In the winter of 1971-72, a record 1,122 inches of snow fell at Rainier Paradise Ranger Station in this state   \n",
      "9             This housewares store was named for the packaging its merchandise came in & was first displayed on   \n",
      "\n",
      "           answer  float_value  \n",
      "0      Copernicus        200.0  \n",
      "1      Jim Thorpe        200.0  \n",
      "2         Arizona        200.0  \n",
      "3      McDonald's        200.0  \n",
      "4      John Adams        200.0  \n",
      "5         the ant        200.0  \n",
      "6  the Appian Way        400.0  \n",
      "7  Michael Jordan        400.0  \n",
      "8      Washington        400.0  \n",
      "9  Crate & Barrel        400.0  \n"
     ]
    }
   ],
   "source": [
    "# Adding a new column. \n",
    "# If the value of the float column is not \"None\", \n",
    "# then we cut off the first character (which is a dollar sign), \n",
    "# and replace all commas with nothing, and then cast that value to a float. \n",
    "# If the answer was \"None\", then we just enter a 0.\n",
    "jeopardy_data['float_value'] = jeopardy_data.value.apply(lambda x: float(x[1:].replace(',','')) if x != 'None' else 0)\n",
    "print(jeopardy_data.head(10))"
   ]
  },
  {
   "cell_type": "markdown",
   "metadata": {},
   "source": [
    "5. Write a function that returns the count of unique answers to all of the questions in a dataset. For example, after filtering the entire dataset to only questions containing the word `\"King\"`, we could then find all of the unique answers to those questions. The answer \"Henry VIII\" appeared 55 times and was the most common answer."
   ]
  },
  {
   "cell_type": "code",
   "execution_count": 72,
   "metadata": {},
   "outputs": [
    {
     "name": "stdout",
     "output_type": "stream",
     "text": [
      "777.5011928459634\n"
     ]
    }
   ],
   "source": [
    "# Filtering the dataset and finding the average value of questions that contain the word 'King'\n",
    "filtered = filter_data(jeopardy_data, ' King ' )\n",
    "print(filtered.float_value.mean())"
   ]
  },
  {
   "cell_type": "markdown",
   "metadata": {},
   "source": [
    "6. Explore from here! This is an incredibly rich dataset, and there are so many interesting things to discover. There are a few columns that we haven't even started looking at yet. Here are some ideas on ways to continue working with this data:\n",
    "\n",
    " * Investigate the ways in which questions change over time by filtering by the date. How many questions from the 90s use the word `\"Computer\"` compared to questions from the 2000s?\n",
    " * Is there a connection between the round and the category? Are you more likely to find certain categories, like `\"Literature\"` in Single Jeopardy or Double Jeopardy?\n",
    " * Build a system to quiz yourself. Grab random questions, and use the <a href=\"https://docs.python.org/3/library/functions.html#input\">input</a> function to get a response from the user. Check to see if that response was right or wrong."
   ]
  },
  {
   "cell_type": "code",
   "execution_count": 87,
   "metadata": {},
   "outputs": [
    {
     "name": "stdout",
     "output_type": "stream",
     "text": [
      "21298\n",
      "61944\n"
     ]
    }
   ],
   "source": [
    "# Filtering the dataset and finding how many question are from the 90s\n",
    "# and how many are from the 2000s\n",
    "\n",
    "filtered = filter_data(jeopardy_data, ' Computer ' )\n",
    "\n",
    "by_date_filter_90 = lambda x: x[0:3] == '199'\n",
    "by_date_filter_2000 = lambda x: x[0:2] == '20'\n",
    "\n",
    "filtered_by_date_90 = filtered.air_date.apply(by_date_filter_90)\n",
    "filtered_by_date_2000 = filtered.air_date.apply(by_date_filter_2000)\n",
    "\n",
    "print(len(filtered.loc[filtered_by_date_90]))\n",
    "print(len(filtered.loc[filtered_by_date_2000]))"
   ]
  }
 ],
 "metadata": {
  "kernelspec": {
   "display_name": "Python 3 (ipykernel)",
   "language": "python",
   "name": "python3"
  },
  "language_info": {
   "codemirror_mode": {
    "name": "ipython",
    "version": 3
   },
   "file_extension": ".py",
   "mimetype": "text/x-python",
   "name": "python",
   "nbconvert_exporter": "python",
   "pygments_lexer": "ipython3",
   "version": "3.11.4"
  }
 },
 "nbformat": 4,
 "nbformat_minor": 2
}
