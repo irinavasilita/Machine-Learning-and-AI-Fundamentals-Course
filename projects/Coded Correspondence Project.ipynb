{
 "cells": [
  {
   "cell_type": "markdown",
   "metadata": {},
   "source": [
    "# Off-Platform Project: Coded Correspondence\n",
    "\n",
    "You and your pen pal, Vishal, have been exchanging letters for some time now. Recently, he has become interested in cryptography and the two of you have started sending encoded messages within your letters.\n",
    "\n",
    "In this project, you will use your Python skills to decipher the messages you receive and to encode your own responses! Put your programming skills to the test with these fun cryptography puzzles. Here is his most recent letter:\n",
    "\n",
    "    Hey there! How have you been? I've been great! I just learned about this really cool type of cipher called a Caesar Cipher. Here's how it works: You take your message, something like \"hello\" and then you shift all of the letters by a certain offset. \n",
    "\n",
    "    For example, if I chose an offset of 3 and a message of \"hello\", I would encode my message by shifting each letter 3 places to the left with respect to the alphabet. So \"h\" becomes \"e\", \"e\" becomes \"b\", \"l\" becomes \"i\", and \"o\" becomes \"l\". Then I have my encoded message, \"ebiil\"! Now I can send you my message and the offset and you can decode it by shifting each letter 3 places to the right. The best thing is that Julius Caesar himself used this cipher, that's why it's called the Caesar Cipher! Isn't that so cool! Okay, now I'm going to send you a longer encoded message that you have to decode yourself!\n",
    "    \n",
    "        xuo jxuhu! jxyi yi qd unqcfbu ev q squiqh syfxuh. muhu oek qrbu je tusetu yj? y xefu ie! iudt cu q cuiiqwu rqsa myjx jxu iqcu evviuj!\n",
    "    \n",
    "    This message has an offset of 10. Can you decode it?\n",
    "    \n",
    "\n",
    "#### Step 1: Decode Vishal's Message\n",
    "In the cell below, use your Python skills to decode Vishal's message and print the result."
   ]
  },
  {
   "cell_type": "markdown",
   "metadata": {},
   "source": [
    "Stuck? Open this cell to view Hints: \n",
    "\n",
    "<span hidden>\n",
    "You can account for shifts that go past the end of the alphabet using the modulus operator, but I'll let you figure out how!\n",
    "\n",
    "Watch out for spaces and punctuation! Your code should only shift characters that are in the alphabet.\n",
    "\n",
    "You'll want to find a way to represent the letters of the alphabet as numbers, where `a = 0`, `b = 1`, etc. Remember, the characters of a string can be accessed with integer indices.\n",
    "</span>"
   ]
  },
  {
   "cell_type": "code",
   "execution_count": 19,
   "metadata": {},
   "outputs": [],
   "source": [
    "import string"
   ]
  },
  {
   "cell_type": "code",
   "execution_count": 20,
   "metadata": {},
   "outputs": [
    {
     "name": "stdout",
     "output_type": "stream",
     "text": [
      "hey there! this is an example of a caesar cipher. were you able to decode it? i hope so! send me a message back with the same offset!\n"
     ]
    }
   ],
   "source": [
    "def caesar_decode(message, offset):\n",
    "    alphabet = list(string.ascii_lowercase)\n",
    "    \n",
    "    #print(f'Alphabet: {alphabet}\\n\\n')\n",
    "    #print(f'Message: {message}')\n",
    "    \n",
    "    decoded_message = ''\n",
    "    \n",
    "    for char in message:\n",
    "        if char in alphabet:\n",
    "            char_alph_index = alphabet.index(char)\n",
    "            #print(f\"{message[i]}'s index is {char_alph_index}\")\n",
    "            \n",
    "            decoded_char_index = char_alph_index + offset\n",
    "            #print(f\"{char_alph_index} + {offset_char_index} is {decoded_char_index}\")\n",
    "            \n",
    "            decoded_message += alphabet[decoded_char_index % len(alphabet)]\n",
    "        else:\n",
    "            decoded_message += char\n",
    "    \n",
    "    return decoded_message\n",
    "        \n",
    "message = 'xuo jxuhu! jxyi yi qd unqcfbu ev q squiqh syfxuh. muhu oek qrbu je tusetu yj? y xefu ie! iudt cu q cuiiqwu rqsa myjx jxu iqcu evviuj!'\n",
    "\n",
    "print(caesar_decode(message, 10))"
   ]
  },
  {
   "cell_type": "markdown",
   "metadata": {},
   "source": [
    "\n",
    "## Trying another solution\n",
    "\n",
    "ASCII stands for American Standard Code for Information Interchange.\n",
    "\n",
    "It is a numeric value given to different characters and symbols, for computers to store and manipulate. For example, the ASCII value of the letter 'A' is 65.\n",
    "\n",
    "`ord()` function is used to convert a character to an integer (ASCII value). This function returns the Unicode code point of that character.\n",
    "\n",
    "Unicode is also an encoding technique that provides a unique number to a character. While ASCII only encodes 128 characters, the current Unicode has more than 100,000 characters from hundreds of scripts.\n",
    "\n",
    "To get characters from their corresponding ASCII values we use the `chr()` function.\n",
    "\n",
    "The range of ASCII values for uppercase letters A-Z is 65-90, and the range for lowercase letters a-z is 97-122."
   ]
  },
  {
   "cell_type": "code",
   "execution_count": 21,
   "metadata": {},
   "outputs": [
    {
     "name": "stdout",
     "output_type": "stream",
     "text": [
      "hey there! this is an example of a caesar cipher. were you able to decode it? i hope so! send me a message back with the same offset!\n"
     ]
    }
   ],
   "source": [
    "def caesar_decode_ascii(message, offset):\n",
    "    decoded_message = ''\n",
    "    # For each character in the message\n",
    "    for char in message:\n",
    "        # If it is a small letter\n",
    "        if (ord(char) > 64 and ord(char) < 91) or (ord(char) > 96 and ord(char) < 123):\n",
    "            # Find the ASCII code of the letter + the offset\n",
    "            decoded_char_ord = ord(char) + offset\n",
    "            # If it is off limits substract the number of letters in the alphabet\n",
    "            if (decoded_char_ord > 90 and ord(char) < 91) or decoded_char_ord > 122:\n",
    "                decoded_char_ord = decoded_char_ord - 26\n",
    "            # Append the decoded letter to the message    \n",
    "            decoded_message += chr(decoded_char_ord)\n",
    "        # If it is not a letter, just append the character to the decoded message\n",
    "        else: \n",
    "            decoded_message += char\n",
    "    return decoded_message\n",
    "\n",
    "message = 'xuo jxuhu! jxyi yi qd unqcfbu ev q squiqh syfxuh. muhu oek qrbu je tusetu yj? y xefu ie! iudt cu q cuiiqwu rqsa myjx jxu iqcu evviuj!'\n",
    "print(caesar_decode_ascii(message, 10))"
   ]
  },
  {
   "cell_type": "markdown",
   "metadata": {},
   "source": [
    "#### Step 2: Send Vishal a Coded Message\n",
    "Great job! Now send Vishal back a message using the same offset. Your message can be anything you want! Remember, encoding happens in opposite direction of decoding."
   ]
  },
  {
   "cell_type": "code",
   "execution_count": 22,
   "metadata": {},
   "outputs": [
    {
     "name": "stdout",
     "output_type": "stream",
     "text": [
      "Hy! I tusetut oekh cuiiqwu. Txyi yi luho seeb!\n"
     ]
    }
   ],
   "source": [
    "def caesar_encode(message, offset):\n",
    "    alphabet = list(string.ascii_lowercase)\n",
    "    \n",
    "    #print(f'Alphabet: {alphabet}\\n\\n')\n",
    "    #print(f'Message: {message}')\n",
    "    \n",
    "    encoded_message = ''\n",
    "    \n",
    "    for char in message:\n",
    "        if char in alphabet:\n",
    "            char_alph_index = alphabet.index(char)\n",
    "            #print(f\"{message[i]}'s index is {char_alph_index}\")\n",
    "            \n",
    "            encoded_char_index = char_alph_index - offset\n",
    "            #print(f\"{char_alph_index} + {offset_char_index} is {decoded_char_index}\")\n",
    "            \n",
    "            encoded_message += alphabet[encoded_char_index % len(alphabet)]\n",
    "        else:\n",
    "            encoded_message += char\n",
    "    \n",
    "    return encoded_message\n",
    "        \n",
    "message = 'Hi! I decoded your message. This is very cool!'\n",
    "print(caesar_encode(message, 10))"
   ]
  },
  {
   "cell_type": "code",
   "execution_count": 23,
   "metadata": {},
   "outputs": [
    {
     "name": "stdout",
     "output_type": "stream",
     "text": [
      "Xy! Y tusetut oekh cuiiqwu. Jxyi yi luho seeb!\n"
     ]
    }
   ],
   "source": [
    "# This will return a different result \n",
    "# because the alphabet is different\n",
    "def caesar_encode_ascii(message, offset):\n",
    "    encoded_message = ''\n",
    "    # For each character in the message\n",
    "    for char in message:\n",
    "        # If it is a letter\n",
    "        if (ord(char) > 64 and ord(char) < 91) or (ord(char) > 96 and ord(char) < 123):\n",
    "            # Find the ASCII code of the letter - the offset\n",
    "            encoded_char_ord = ord(char) - offset\n",
    "            # If it is off limits add the number of letters in the alphabet\n",
    "            if (encoded_char_ord < 97 and ord(char) > 96) or encoded_char_ord < 65:\n",
    "                encoded_char_ord = encoded_char_ord + 26\n",
    "            # Append the decoded letter to the message    \n",
    "            encoded_message += chr(encoded_char_ord)\n",
    "        # If it is not a letter, just append the character to the decoded message\n",
    "        else: \n",
    "            encoded_message += char\n",
    "    return encoded_message\n",
    "\n",
    "message = 'Hi! I decoded your message. This is very cool!'\n",
    "print(caesar_encode_ascii(message, 10))"
   ]
  },
  {
   "cell_type": "markdown",
   "metadata": {},
   "source": [
    "#### Step 3: Make functions for decoding and coding \n",
    "\n",
    "Vishal sent over another reply, this time with two coded messages!\n",
    "    \n",
    "    You're getting the hang of this! Okay here are two more messages, the first one is coded just like before with an offset of ten, and it contains a hint for decoding the second message!\n",
    "\n",
    "    First message:\n",
    "    \n",
    "        jxu evviuj veh jxu iusedt cuiiqwu yi vekhjuud.\n",
    "        \n",
    "    Second message:\n",
    "    \n",
    "        bqdradyuzs ygxfubxq omqemd oubtqde fa oapq kagd yqeemsqe ue qhqz yadq eqogdq!\n",
    "    \n",
    "Decode both of these messages. \n",
    "\n",
    "If you haven't already, define two functions `caesar_decode(message, offset)` and `caesar_encode(message, offset)` that can be used to quickly decode and encode messages given any offset."
   ]
  },
  {
   "cell_type": "code",
   "execution_count": 24,
   "metadata": {},
   "outputs": [
    {
     "name": "stdout",
     "output_type": "stream",
     "text": [
      "the offset for the second message is fourteen.\n"
     ]
    }
   ],
   "source": [
    "message = 'jxu evviuj veh jxu iusedt cuiiqwu yi vekhjuud.'\n",
    "print(caesar_decode(message, 10))"
   ]
  },
  {
   "cell_type": "code",
   "execution_count": 25,
   "metadata": {},
   "outputs": [
    {
     "name": "stdout",
     "output_type": "stream",
     "text": [
      "performing multiple caesar ciphers to code your messages is even more secure!\n"
     ]
    }
   ],
   "source": [
    "message = 'bqdradyuzs ygxfubxq omqemd oubtqde fa oapq kagd yqeemsqe ue qhqz yadq eqogdq!'\n",
    "print(caesar_decode(message, 14))"
   ]
  },
  {
   "cell_type": "markdown",
   "metadata": {},
   "source": [
    "#### Step 4: Solving a Caesar Cipher without knowing the shift value\n",
    "\n",
    "Awesome work! While you were working to decode his last two messages, Vishal sent over another letter! He's really been bitten by the crypto-bug. Read it and see what interesting task he has lined up for you this time.\n",
    "\n",
    "    Hello again friend! I knew you would love the Caesar Cipher, it's a cool, simple way to encrypt messages. Did you know that back in Caesar's time, it was considered a very secure way of communication and it took a lot of effort to crack if you were unaware of the value of the shift? That's all changed with computers! Now we can brute force these kinds of ciphers very quickly, as I'm sure you can imagine.\n",
    "            \n",
    "    To test your cryptography skills, this next coded message is going to be harder than the last couple to crack. It's still going to be coded with a Caesar Cipher but this time I'm not going to tell you the value of the shift. You'll have to brute force it yourself.\n",
    "            \n",
    "    Here's the coded message:\n",
    "            \n",
    "        vhfinmxkl atox kxgwxkxw tee hy maxlx hew vbiaxkl hulhexmx. px'ee atox mh kxteer lmxi ni hnk ztfx by px ptgm mh dxxi hnk fxlltzxl ltyx.\n",
    "            \n",
    "    Good luck!\n",
    "            \n",
    "Decode Vishal's most recent message and see what it says!"
   ]
  },
  {
   "cell_type": "markdown",
   "metadata": {},
   "source": [
    "Stuck? Open this cell to view Hints: \n",
    "\n",
    "<span hidden>\n",
    "Since you don't know the cipher's offset, you'll need to try every possible option until you find the right one. Use a Python statement that will allow you to execute `caesar_decode()` multiple times with different `offset` arguments.\n",
    "</span>"
   ]
  },
  {
   "cell_type": "code",
   "execution_count": 26,
   "metadata": {},
   "outputs": [
    {
     "name": "stdout",
     "output_type": "stream",
     "text": [
      "Decoded message with offset 1 is \"wigjonylm bupy lyhxylyx uff iz nbymy ifx wcjbylm ivmifyny. qy'ff bupy ni lyuffs mnyj oj iol augy cz qy quhn ni eyyj iol gymmuaym muzy.\"\n",
      "\n",
      "Decoded message with offset 2 is \"xjhkpozmn cvqz mziyzmzy vgg ja ocznz jgy xdkczmn jwnjgzoz. rz'gg cvqz oj mzvggt nozk pk jpm bvhz da rz rvio oj fzzk jpm hznnvbzn nvaz.\"\n",
      "\n",
      "Decoded message with offset 3 is \"ykilqpano dwra najzanaz whh kb pdaoa khz yeldano kxokhapa. sa'hh dwra pk nawhhu opal ql kqn cwia eb sa swjp pk gaal kqn iaoowcao owba.\"\n",
      "\n",
      "Decoded message with offset 4 is \"zljmrqbop exsb obkaboba xii lc qebpb lia zfmebop lyplibqb. tb'ii exsb ql obxiiv pqbm rm lro dxjb fc tb txkq ql hbbm lro jbppxdbp pxcb.\"\n",
      "\n",
      "Decoded message with offset 5 is \"amknsrcpq fytc pclbcpcb yjj md rfcqc mjb agnfcpq mzqmjcrc. uc'jj fytc rm pcyjjw qrcn sn msp eykc gd uc uylr rm iccn msp kcqqyecq qydc.\"\n",
      "\n",
      "Decoded message with offset 6 is \"bnlotsdqr gzud qdmcdqdc zkk ne sgdrd nkc bhogdqr narnkdsd. vd'kk gzud sn qdzkkx rsdo to ntq fzld he vd vzms sn jddo ntq ldrrzfdr rzed.\"\n",
      "\n",
      "Decoded message with offset 7 is \"computers have rendered all of these old ciphers obsolete. we'll have to really step up our game if we want to keep our messages safe.\"\n",
      "\n",
      "Decoded message with offset 8 is \"dpnqvufst ibwf sfoefsfe bmm pg uiftf pme djqifst pctpmfuf. xf'mm ibwf up sfbmmz tufq vq pvs hbnf jg xf xbou up lffq pvs nfttbhft tbgf.\"\n",
      "\n",
      "Decoded message with offset 9 is \"eqorwvgtu jcxg tgpfgtgf cnn qh vjgug qnf ekrjgtu qduqngvg. yg'nn jcxg vq tgcnna uvgr wr qwt icog kh yg ycpv vq mggr qwt oguucigu uchg.\"\n",
      "\n",
      "Decoded message with offset 10 is \"frpsxwhuv kdyh uhqghuhg doo ri wkhvh rog flskhuv revrohwh. zh'oo kdyh wr uhdoob vwhs xs rxu jdph li zh zdqw wr nhhs rxu phvvdjhv vdih.\"\n",
      "\n",
      "Decoded message with offset 11 is \"gsqtyxivw lezi virhivih epp sj xliwi sph gmtlivw sfwspixi. ai'pp lezi xs vieppc wxit yt syv keqi mj ai aerx xs oiit syv qiwwekiw weji.\"\n",
      "\n",
      "Decoded message with offset 12 is \"htruzyjwx mfaj wjsijwji fqq tk ymjxj tqi hnumjwx tgxtqjyj. bj'qq mfaj yt wjfqqd xyju zu tzw lfrj nk bj bfsy yt pjju tzw rjxxfljx xfkj.\"\n",
      "\n",
      "Decoded message with offset 13 is \"iusvazkxy ngbk xktjkxkj grr ul znkyk urj iovnkxy uhyurkzk. ck'rr ngbk zu xkgrre yzkv av uax mgsk ol ck cgtz zu qkkv uax skyygmky yglk.\"\n",
      "\n",
      "Decoded message with offset 14 is \"jvtwbalyz ohcl yluklylk hss vm aolzl vsk jpwolyz vizvslal. dl'ss ohcl av ylhssf zalw bw vby nhtl pm dl dhua av rllw vby tlzzhnlz zhml.\"\n",
      "\n",
      "Decoded message with offset 15 is \"kwuxcbmza pidm zmvlmzml itt wn bpmam wtl kqxpmza wjawtmbm. em'tt pidm bw zmittg abmx cx wcz oium qn em eivb bw smmx wcz umaaioma ainm.\"\n",
      "\n",
      "Decoded message with offset 16 is \"lxvydcnab qjen anwmnanm juu xo cqnbn xum lryqnab xkbxuncn. fn'uu qjen cx anjuuh bcny dy xda pjvn ro fn fjwc cx tnny xda vnbbjpnb bjon.\"\n",
      "\n",
      "Decoded message with offset 17 is \"mywzedobc rkfo boxnobon kvv yp droco yvn mszrobc ylcyvodo. go'vv rkfo dy bokvvi cdoz ez yeb qkwo sp go gkxd dy uooz yeb wocckqoc ckpo.\"\n",
      "\n",
      "Decoded message with offset 18 is \"nzxafepcd slgp cpyopcpo lww zq espdp zwo ntaspcd zmdzwpep. hp'ww slgp ez cplwwj depa fa zfc rlxp tq hp hlye ez vppa zfc xpddlrpd dlqp.\"\n",
      "\n",
      "Decoded message with offset 19 is \"oaybgfqde tmhq dqzpqdqp mxx ar ftqeq axp oubtqde aneaxqfq. iq'xx tmhq fa dqmxxk efqb gb agd smyq ur iq imzf fa wqqb agd yqeemsqe emrq.\"\n",
      "\n",
      "Decoded message with offset 20 is \"pbzchgref unir eraqrerq nyy bs gurfr byq pvcuref bofbyrgr. jr'yy unir gb ernyyl fgrc hc bhe tnzr vs jr jnag gb xrrc bhe zrffntrf fnsr.\"\n",
      "\n",
      "Decoded message with offset 21 is \"qcadihsfg vojs fsbrsfsr ozz ct hvsgs czr qwdvsfg cpgczshs. ks'zz vojs hc fsozzm ghsd id cif uoas wt ks kobh hc yssd cif asggousg gots.\"\n",
      "\n",
      "Decoded message with offset 22 is \"rdbejitgh wpkt gtcstgts paa du iwtht das rxewtgh dqhdatit. lt'aa wpkt id gtpaan hite je djg vpbt xu lt lpci id ztte djg bthhpvth hput.\"\n",
      "\n",
      "Decoded message with offset 23 is \"secfkjuhi xqlu hudtuhut qbb ev jxuiu ebt syfxuhi eriebuju. mu'bb xqlu je huqbbo ijuf kf ekh wqcu yv mu mqdj je auuf ekh cuiiqwui iqvu.\"\n",
      "\n",
      "Decoded message with offset 24 is \"tfdglkvij yrmv iveuvivu rcc fw kyvjv fcu tzgyvij fsjfcvkv. nv'cc yrmv kf ivrccp jkvg lg fli xrdv zw nv nrek kf bvvg fli dvjjrxvj jrwv.\"\n",
      "\n",
      "Decoded message with offset 25 is \"ugehmlwjk zsnw jwfvwjwv sdd gx lzwkw gdv uahzwjk gtkgdwlw. ow'dd zsnw lg jwsddq klwh mh gmj ysew ax ow osfl lg cwwh gmj ewkksywk ksxw.\"\n",
      "\n",
      "Decoded message with offset 26 is \"vhfinmxkl atox kxgwxkxw tee hy maxlx hew vbiaxkl hulhexmx. px'ee atox mh kxteer lmxi ni hnk ztfx by px ptgm mh dxxi hnk fxlltzxl ltyx.\"\n",
      "\n"
     ]
    }
   ],
   "source": [
    "message = \"vhfinmxkl atox kxgwxkxw tee hy maxlx hew vbiaxkl hulhexmx. px'ee atox mh kxteer lmxi ni hnk ztfx by px ptgm mh dxxi hnk fxlltzxl ltyx.\"\n",
    "\n",
    "for i in range(1, 27):\n",
    "    decoded_message = caesar_decode(message, i)\n",
    "    print(f'Decoded message with offset {i} is \"{decoded_message}\"\\n')"
   ]
  },
  {
   "cell_type": "markdown",
   "metadata": {},
   "source": [
    "#### Step 5: The Vigenère Cipher\n",
    "\n",
    "Great work! While you were working on the brute force cracking of the cipher, Vishal sent over another letter. That guy is a letter machine!\n",
    "\n",
    "    Salutations! As you can see, technology has made brute forcing simple ciphers like the Caesar Cipher extremely easy, and us crypto-enthusiasts have had to get more creative and use more complicated ciphers. This next cipher I'm going to teach you is the Vigenère Cipher, invented by an Italian cryptologist named Giovan Battista Bellaso (cool name eh?) in the 16th century, but named after another cryptologist from the 16th century, Blaise de Vigenère.\n",
    "            \n",
    "    The Vigenère Cipher is a polyalphabetic substitution cipher, as opposed to the Caesar Cipher which was a monoalphabetic substitution cipher. What this means is that opposed to having a single shift that is applied to every letter, the Vigenère Cipher has a different shift for each individual letter. The value of the shift for each letter is determined by a given keyword.\n",
    "           \n",
    "    Consider the message:\n",
    "           \n",
    "        barry is the spy\n",
    "\n",
    "    If we want to code this message, first we choose a keyword. For this example, we'll use the keyword\n",
    "           \n",
    "        dog\n",
    "               \n",
    "    Now we repeat the keyword over and over to generate a keyword phrase that is the same length as the message we want to code. So if we want to code the message \"barry is the spy\" our keyword phrase is \"dogdo gd ogd ogd\". Now we are ready to start coding our message. We shift each letter of our message by the place value of the corresponding letter in the keyword phrase, assuming that \"a\" has a place value of 0, \"b\" has a place value of 1, and so forth.\n",
    "\n",
    "                  message:    b  a  r  r  y    i  s    t  h  e    s  p  y\n",
    "                \n",
    "           keyword phrase:    d  o  g  d  o    g  d    o  g  d    o  g  d\n",
    "                 \n",
    "    resulting place value:    24 12 11 14 10   2  15   5  1  1    4  9  21\n",
    "      \n",
    "    So we shift \"b\", which has an index of 1, by the index of \"d\", which is 3. This gives us an place value of 24, which is \"y\". Remember to loop back around when we reach either end of the alphabet! Then continue the trend: we shift \"a\" by the place value of \"o\", 14, and get \"m\", we shift \"r\" by the place value of \"g\", 15, and get \"l\", shift the next \"r\" by 4 places and get \"o\", and so forth. Once we complete all the shifts we end up with our coded message:\n",
    "            \n",
    "        ymlok cp fbb ejv\n",
    "                \n",
    "    As you can imagine, this is a lot harder to crack without knowing the keyword! So now comes the hard part. I'll give you a message and the keyword, and you'll see if you can figure out how to crack it! Ready? Okay here's my message:\n",
    "            \n",
    "        txm srom vkda gl lzlgzr qpdb? fepb ejac! ubr imn tapludwy mhfbz cza ruxzal wg zztcgcexxch!\n",
    "                \n",
    "    and the keyword to decode my message is \n",
    "            \n",
    "        friends\n",
    "                \n",
    "    Because that's what we are! Good luck friend!\n",
    "           \n",
    "And there it is. Vishal has given you quite the assignment this time! Try to decode his message. It may be helpful to create a function that takes two parameters &mdash; the coded message and the keyword &mdash; then work towards a solution from there."
   ]
  },
  {
   "cell_type": "markdown",
   "metadata": {},
   "source": [
    "Stuck? Open this cell to view Hints: \n",
    "\n",
    "<span hidden>\n",
    "Like before, you'll only want to shift characters that are in the alphabet. Your keyword phrase should ignore any spaces and punctuation in the original message.\n",
    "\n",
    "For example, given the message\n",
    "\n",
    "  ciphers are awesome!\n",
    "\n",
    "and the keyword\n",
    "\n",
    "  cat\n",
    "\n",
    "the keyword phrase would be:\n",
    "\n",
    "  catcatc atc atcatca\n",
    "\n",
    "and the encoded string would be:\n",
    "\n",
    "  aiwfeyq ayc adcsvke!\n",
    "</span>"
   ]
  },
  {
   "cell_type": "code",
   "execution_count": 27,
   "metadata": {},
   "outputs": [
    {
     "name": "stdout",
     "output_type": "stream",
     "text": [
      "you were able to decode this? nice work! you are becoming quite the expert at crytography!\n"
     ]
    }
   ],
   "source": [
    "def vigenere_decode(message, keyword):\n",
    "    alphabet = list(string.ascii_lowercase)\n",
    "    \n",
    "    #print(f'Alphabet: {alphabet}\\n\\n')\n",
    "    #print(f'Message: {message}')\n",
    "    #print(f'Keyword: {keyword}')\n",
    "    \n",
    "    decoded_message = ''\n",
    "    m_char_index = 0\n",
    "    \n",
    "    for i in range(len(message)):\n",
    "        if message[i] in alphabet:\n",
    "            char_alph_index = alphabet.index(message[i])\n",
    "            #print(f\"{message[i]}'s index is {char_alph_index}\")\n",
    "            \n",
    "            offset_char = keyword[m_char_index % len(keyword)]\n",
    "            offset_char_index = alphabet.index(offset_char)\n",
    "            #print(f\"{keyword}'s letter is {offset_char} with index {offset_char_index}\")\n",
    "            \n",
    "            decoded_char_index = char_alph_index + offset_char_index\n",
    "            #print(f\"{char_alph_index} + {offset_char_index} is {decoded_char_index}\")\n",
    "            \n",
    "            decoded_message += alphabet[decoded_char_index % len(alphabet)]\n",
    "            \n",
    "            m_char_index +=1\n",
    "        else:\n",
    "            decoded_message += message[i]\n",
    "    \n",
    "    return decoded_message\n",
    "        \n",
    "message = 'txm srom vkda gl lzlgzr qpdb? fepb ejac! ubr imn tapludwy mhfbz cza ruxzal wg zztcgcexxch!'\n",
    "keyword = 'friends'\n",
    "\n",
    "print(vigenere_decode(message, keyword))"
   ]
  },
  {
   "cell_type": "markdown",
   "metadata": {
    "collapsed": true
   },
   "source": [
    "#### Step 6: Send a message with the  Vigenère Cipher\n",
    "Great work decoding the message. For your final task, write a function that can encode a message using a given keyword and write out a message to send to Vishal!\n",
    "\n",
    "*As a bonus, try calling your decoder function on the result of your encryption function. You should get the original message back!*"
   ]
  },
  {
   "cell_type": "code",
   "execution_count": 28,
   "metadata": {},
   "outputs": [
    {
     "name": "stdout",
     "output_type": "stream",
     "text": [
      "txm srom vkda gl lzlgzr qpdb? fepb ejac! ubr imn tapludwy mhfbz cza ruxzal wg zztcgcexxch!\n"
     ]
    }
   ],
   "source": [
    "def vigenere_encode(message, keyword):\n",
    "    alphabet = list(string.ascii_lowercase)\n",
    "    \n",
    "    #print(f'Alphabet: {alphabet}\\n\\n')\n",
    "    #print(f'Message: {message}')\n",
    "    #print(f'Keyword: {keyword}')\n",
    "    \n",
    "    encoded_message = ''\n",
    "    m_char_index = 0\n",
    "    \n",
    "    for i in range(len(message)):\n",
    "        if message[i] in alphabet:\n",
    "            char_alph_index = alphabet.index(message[i])\n",
    "            #print(f\"{message[i]}'s index is {char_alph_index}\")\n",
    "            \n",
    "            offset_char = keyword[m_char_index % len(keyword)]\n",
    "            offset_char_index = alphabet.index(offset_char)\n",
    "            #print(f\"{keyword}'s letter is {offset_char} with index {offset_char_index}\")\n",
    "            \n",
    "            encoded_char_index = char_alph_index - offset_char_index\n",
    "            #print(f\"{char_alph_index} - {offset_char_index} is {decoded_char_index}\")\n",
    "            \n",
    "            encoded_message += alphabet[encoded_char_index % len(alphabet)]\n",
    "            \n",
    "            m_char_index +=1\n",
    "        else:\n",
    "            encoded_message += message[i]\n",
    "    \n",
    "    return encoded_message\n",
    "\n",
    "message = 'you were able to decode this? nice work! you are becoming quite the expert at crytography!'\n",
    "keyword = 'friends'\n",
    "\n",
    "print(vigenere_encode(message, keyword))"
   ]
  },
  {
   "cell_type": "markdown",
   "metadata": {},
   "source": [
    "#### Conclusion\n",
    "Over the course of this project you've learned about two different cipher methods and have used your Python skills to code and decode messages. There are all types of other facinating ciphers out there to explore, and Python is the perfect language to implement them with, so go exploring! "
   ]
  }
 ],
 "metadata": {
  "kernelspec": {
   "display_name": "Python 3 (ipykernel)",
   "language": "python",
   "name": "python3"
  },
  "language_info": {
   "codemirror_mode": {
    "name": "ipython",
    "version": 3
   },
   "file_extension": ".py",
   "mimetype": "text/x-python",
   "name": "python",
   "nbconvert_exporter": "python",
   "pygments_lexer": "ipython3",
   "version": "3.11.4"
  }
 },
 "nbformat": 4,
 "nbformat_minor": 2
}
